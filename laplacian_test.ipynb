{
 "cells": [
  {
   "cell_type": "code",
   "execution_count": 1,
   "outputs": [],
   "source": [
    "from federatedscope.register import register_data\n",
    "from federatedscope.register import register_trainer\n",
    "from federatedscope.register import register_metric\n",
    "from federatedscope.register import register_model"
   ],
   "metadata": {
    "collapsed": false,
    "pycharm": {
     "name": "#%%\n"
    }
   }
  },
  {
   "cell_type": "code",
   "execution_count": 1,
   "outputs": [],
   "source": [],
   "metadata": {
    "collapsed": false,
    "pycharm": {
     "name": "#%%\n"
    }
   }
  },
  {
   "cell_type": "markdown",
   "source": [],
   "metadata": {
    "collapsed": false,
    "pycharm": {
     "name": "#%% md\n"
    }
   }
  },
  {
   "cell_type": "code",
   "execution_count": 2,
   "outputs": [],
   "source": [
    "from federatedscope.contrib.data.cikm_cup import call_cikm_cup_data\n",
    "\n",
    "register_data(\"cikm_cup\", call_cikm_cup_data)"
   ],
   "metadata": {
    "collapsed": false,
    "pycharm": {
     "name": "#%%\n"
    }
   }
  },
  {
   "cell_type": "markdown",
   "source": [
    "### Register model"
   ],
   "metadata": {
    "collapsed": false,
    "pycharm": {
     "name": "#%% md\n"
    }
   }
  },
  {
   "cell_type": "code",
   "execution_count": 3,
   "outputs": [],
   "source": [
    "#from federatedscope.contrib.model.mnist_model import call_my_net\n",
    "#register_model(\"mynet\", call_my_net)"
   ],
   "metadata": {
    "collapsed": false,
    "pycharm": {
     "name": "#%%\n"
    }
   }
  },
  {
   "cell_type": "code",
   "execution_count": 3,
   "outputs": [],
   "source": [],
   "metadata": {
    "collapsed": false,
    "pycharm": {
     "name": "#%%\n"
    }
   }
  },
  {
   "cell_type": "markdown",
   "source": [
    "### Register trainer"
   ],
   "metadata": {
    "collapsed": false,
    "pycharm": {
     "name": "#%% md\n"
    }
   }
  },
  {
   "cell_type": "code",
   "execution_count": 4,
   "outputs": [],
   "source": [
    "from federatedscope.contrib.trainer.laplacian_trainer import call_laplacian_trainer\n",
    "\n",
    "register_trainer('laplacian_trainer', call_laplacian_trainer)"
   ],
   "metadata": {
    "collapsed": false,
    "pycharm": {
     "name": "#%%\n"
    }
   }
  },
  {
   "cell_type": "markdown",
   "source": [
    "### Register metric"
   ],
   "metadata": {
    "collapsed": false,
    "pycharm": {
     "name": "#%% md\n"
    }
   }
  },
  {
   "cell_type": "markdown",
   "source": [
    "### Create the config"
   ],
   "metadata": {
    "collapsed": false,
    "pycharm": {
     "name": "#%% md\n"
    }
   }
  },
  {
   "cell_type": "markdown",
   "source": [
    "#### Set data, model, trainer and metric"
   ],
   "metadata": {
    "collapsed": false,
    "pycharm": {
     "name": "#%% md\n"
    }
   }
  },
  {
   "cell_type": "code",
   "execution_count": 5,
   "outputs": [],
   "source": [
    "from federatedscope.core.configs.config import global_cfg, CN\n",
    "\n",
    "cfg = global_cfg.clone()\n",
    "cfg.data.type = 'cikm_cup'\n",
    "cfg.data.root = 'data'\n",
    "cfg.data.transform = [['ToTensor'], ['Normalize', {'mean': [0.1307], 'std': [0.3081]}]]\n",
    "cfg.model.type = 'gin'\n",
    "#cfg.model.out_channels = 10\n",
    "cfg.model.task='graph'\n",
    "cfg.personalization.local_param = ['encoder_atom', 'encoder', 'clf']#['node_encoder', 'encoder', 'clf']\n",
    "cfg.train.batch_or_epoch = \"epoch\"\n",
    "cfg.trainer.type = 'laplacian_trainer'\n",
    "cfg.data.batch_size = 32\n",
    "# cfg.eval.metric = ['mymetric']\n",
    "cfg.params = CN()\n",
    "cfg.params.alpha=0.01\n",
    "cfg.params.csd_importance=100\n",
    "cfg.params.eps=1e-5\n",
    "cfg.params.p=0."
   ],
   "metadata": {
    "collapsed": false,
    "pycharm": {
     "name": "#%%\n"
    }
   }
  },
  {
   "cell_type": "markdown",
   "source": [
    "#### configure other options"
   ],
   "metadata": {
    "collapsed": false,
    "pycharm": {
     "name": "#%% md\n"
    }
   }
  },
  {
   "cell_type": "code",
   "execution_count": 6,
   "outputs": [],
   "source": [
    "cfg.use_gpu = True\n",
    "cfg.best_res_update_round_wise_key = \"test_loss\"\n",
    "\n",
    "cfg.federate.mode = 'standalone'\n",
    "cfg.federate.method = 'Laplacian'\n",
    "#cfg.federate.local_update_steps = 20000000\n",
    "#cfg.personalization.local_update_steps = 20000000\n",
    "#cfg.finetune.local_update_steps = 20000000\n",
    "cfg.train.local_update_steps = 1\n",
    "\n",
    "cfg.federate.total_round_num = 1\n",
    "cfg.federate.client_num = 13\n",
    "cfg.early_stop.patience = 50\n",
    "#cfg.train.optimizer.lr = 0.001\n",
    "cfg.train.optimizer.weight_decay = 0.00001\n",
    "cfg.grad.grad_clip = 5.0\n",
    "\n",
    "cfg.criterion.type = 'CrossEntropyLoss'\n",
    "cfg.seed = 123\n",
    "cfg.eval.best_res_update_round_wise_key = \"test_loss\""
   ],
   "metadata": {
    "collapsed": false,
    "pycharm": {
     "name": "#%%\n"
    }
   }
  },
  {
   "cell_type": "code",
   "execution_count": 7,
   "outputs": [],
   "source": [
    "from yacs.config import CfgNode\n",
    "client_cfg_file = \"federatedscope/gfl/baseline/fedavg_gin_minibatch_on_cikmcup_per_client_own.yaml\"\n",
    "client_cfg = CfgNode.load_cfg(open(client_cfg_file,\n",
    "                                       'r')) if client_cfg_file else None\n"
   ],
   "metadata": {
    "collapsed": false,
    "pycharm": {
     "name": "#%%\n"
    }
   }
  },
  {
   "cell_type": "markdown",
   "source": [
    "### Start the FL prosess"
   ],
   "metadata": {
    "collapsed": false,
    "pycharm": {
     "name": "#%% md\n"
    }
   }
  },
  {
   "cell_type": "code",
   "execution_count": 9,
   "outputs": [],
   "source": [
    "from federatedscope.core.auxiliaries.data_builder import get_data\n",
    "from federatedscope.core.auxiliaries.utils import setup_seed, update_logger\n",
    "from federatedscope.core.fed_runner import FedRunner\n",
    "from federatedscope.core.auxiliaries.worker_builder import get_server_cls, get_client_cls\n"
   ],
   "metadata": {
    "collapsed": false,
    "pycharm": {
     "name": "#%%\n"
    }
   }
  },
  {
   "cell_type": "code",
   "execution_count": 10,
   "outputs": [
    {
     "name": "stderr",
     "output_type": "stream",
     "text": [
      "2022-09-06 17:40:20,340 (utils:129)INFO: the current machine is at 127.0.1.1\n",
      "2022-09-06 17:40:20,340 (utils:131)INFO: the current dir is /home/michael/Master thesis/Code/FederatedScope_thesis\n",
      "2022-09-06 17:40:20,341 (utils:132)INFO: the output dir is exp/Laplacian_gin_on_cikm_cup_lr0.1_lstep1_/sub_exp_20220906174020\n",
      "2022-09-06 17:40:20,341 (cikm_cup:58)INFO: Loading CIKMCUP data from /home/michael/Master thesis/Code/FederatedScope_thesis/data/CIKM22Competition.\n",
      "2022-09-06 17:40:20,342 (cikm_cup:68)INFO: Loading CIKMCUP data for Client #1.\n",
      "2022-09-06 17:40:20,575 (cikm_cup:68)INFO: Loading CIKMCUP data for Client #2.\n",
      "2022-09-06 17:40:20,592 (cikm_cup:68)INFO: Loading CIKMCUP data for Client #3.\n",
      "2022-09-06 17:40:20,918 (cikm_cup:68)INFO: Loading CIKMCUP data for Client #4.\n",
      "2022-09-06 17:40:20,937 (cikm_cup:68)INFO: Loading CIKMCUP data for Client #5.\n",
      "2022-09-06 17:40:20,957 (cikm_cup:68)INFO: Loading CIKMCUP data for Client #6.\n",
      "2022-09-06 17:40:21,216 (cikm_cup:68)INFO: Loading CIKMCUP data for Client #7.\n",
      "2022-09-06 17:40:21,432 (cikm_cup:68)INFO: Loading CIKMCUP data for Client #8.\n",
      "2022-09-06 17:40:21,674 (cikm_cup:68)INFO: Loading CIKMCUP data for Client #9.\n",
      "2022-09-06 17:40:44,919 (cikm_cup:68)INFO: Loading CIKMCUP data for Client #10.\n",
      "2022-09-06 17:41:05,360 (cikm_cup:68)INFO: Loading CIKMCUP data for Client #11.\n",
      "2022-09-06 17:41:05,630 (cikm_cup:68)INFO: Loading CIKMCUP data for Client #12.\n",
      "2022-09-06 17:41:05,690 (cikm_cup:68)INFO: Loading CIKMCUP data for Client #13.\n"
     ]
    }
   ],
   "source": [
    "from federatedscope.contrib.workers.laplacian_client import LaplacianClient\n",
    "from federatedscope.contrib.workers.laplacian_server import LaplacianServer\n",
    "\n",
    "setup_seed(cfg.seed)\n",
    "update_logger(cfg)\n",
    "data, modified_cfg = get_data(cfg)\n",
    "cfg.merge_from_other_cfg(modified_cfg)\n"
   ],
   "metadata": {
    "collapsed": false,
    "pycharm": {
     "name": "#%%\n"
    }
   }
  },
  {
   "cell_type": "code",
   "execution_count": null,
   "outputs": [],
   "source": [
    "Fed_runner = FedRunner(data=data,\n",
    "                       server_class=LaplacianServer,\n",
    "                       client_class=LaplacianClient,\n",
    "                       config=cfg.clone(),\n",
    "                       client_config=client_cfg)\n",
    "Fed_runner.run()"
   ],
   "metadata": {
    "collapsed": false,
    "pycharm": {
     "name": "#%%\n"
    }
   }
  },
  {
   "cell_type": "code",
   "execution_count": null,
   "outputs": [],
   "source": [
    "len(data[1]['train'].dataset)"
   ],
   "metadata": {
    "collapsed": false,
    "pycharm": {
     "name": "#%%\n"
    }
   }
  },
  {
   "cell_type": "code",
   "execution_count": 11,
   "outputs": [
    {
     "name": "stdout",
     "output_type": "stream",
     "text": [
      "tensor([[1, 2],\n",
      "        [3, 4]])\n",
      "tensor([[10, 20],\n",
      "        [30, 40]])\n"
     ]
    }
   ],
   "source": [
    "import torch\n",
    "data = [[1, 2],[3, 4]]\n",
    "data2 = [[10, 20],[30, 40]]\n",
    "x_data = torch.tensor(data)\n",
    "x_data2 = torch.tensor(data2)\n",
    "print(x_data)\n",
    "print(x_data2)"
   ],
   "metadata": {
    "collapsed": false,
    "pycharm": {
     "name": "#%%\n"
    }
   }
  },
  {
   "cell_type": "code",
   "execution_count": 11,
   "outputs": [
    {
     "data": {
      "text/plain": "{1: {'train': <torch_geometric.loader.dataloader.DataLoader at 0x7fb4b59e3b20>,\n  'val': <torch_geometric.loader.dataloader.DataLoader at 0x7fb36ce15850>,\n  'test': <torch_geometric.loader.dataloader.DataLoader at 0x7fb36c09ad30>,\n  'num_label': 0},\n 2: {'train': <torch_geometric.loader.dataloader.DataLoader at 0x7fb36bfa8a30>,\n  'val': <torch_geometric.loader.dataloader.DataLoader at 0x7fb36bf3d850>,\n  'test': <torch_geometric.loader.dataloader.DataLoader at 0x7fb36bfdff40>,\n  'num_label': 0},\n 3: {'train': <torch_geometric.loader.dataloader.DataLoader at 0x7fb36b9262b0>,\n  'val': <torch_geometric.loader.dataloader.DataLoader at 0x7fb36bcf16d0>,\n  'test': <torch_geometric.loader.dataloader.DataLoader at 0x7fb36bf5ca90>,\n  'num_label': 0},\n 4: {'train': <torch_geometric.loader.dataloader.DataLoader at 0x7fb36b7c0d90>,\n  'val': <torch_geometric.loader.dataloader.DataLoader at 0x7fb36b7cd7f0>,\n  'test': <torch_geometric.loader.dataloader.DataLoader at 0x7fb36b82adc0>,\n  'num_label': 0},\n 5: {'train': <torch_geometric.loader.dataloader.DataLoader at 0x7fb36b7a7580>,\n  'val': <torch_geometric.loader.dataloader.DataLoader at 0x7fb36b73c5e0>,\n  'test': <torch_geometric.loader.dataloader.DataLoader at 0x7fb36b7d8640>,\n  'num_label': 0},\n 6: {'train': <torch_geometric.loader.dataloader.DataLoader at 0x7fb36b410160>,\n  'val': <torch_geometric.loader.dataloader.DataLoader at 0x7fb36b427940>,\n  'test': <torch_geometric.loader.dataloader.DataLoader at 0x7fb36b75ba30>,\n  'num_label': 0},\n 7: {'train': <torch_geometric.loader.dataloader.DataLoader at 0x7fb36b33bc40>,\n  'val': <torch_geometric.loader.dataloader.DataLoader at 0x7fb36b33beb0>,\n  'test': <torch_geometric.loader.dataloader.DataLoader at 0x7fb36b33be80>,\n  'num_label': 0},\n 8: {'train': <torch_geometric.loader.dataloader.DataLoader at 0x7fb36aa5b580>,\n  'val': <torch_geometric.loader.dataloader.DataLoader at 0x7fb36a9feb20>,\n  'test': <torch_geometric.loader.dataloader.DataLoader at 0x7fb36ac28490>,\n  'num_label': 0},\n 9: {'train': <torch_geometric.loader.dataloader.DataLoader at 0x7fb36a9ded60>,\n  'val': <torch_geometric.loader.dataloader.DataLoader at 0x7fb36a9defd0>,\n  'test': <torch_geometric.loader.dataloader.DataLoader at 0x7fb36a254d30>,\n  'num_label': 0},\n 10: {'train': <torch_geometric.loader.dataloader.DataLoader at 0x7fb3276566a0>,\n  'val': <torch_geometric.loader.dataloader.DataLoader at 0x7fb33ecd6ca0>,\n  'test': <torch_geometric.loader.dataloader.DataLoader at 0x7fb34a7794c0>,\n  'num_label': 0},\n 11: {'train': <torch_geometric.loader.dataloader.DataLoader at 0x7fb334f7e940>,\n  'val': <torch_geometric.loader.dataloader.DataLoader at 0x7fb3333869a0>,\n  'test': <torch_geometric.loader.dataloader.DataLoader at 0x7fb3324777f0>,\n  'num_label': 0},\n 12: {'train': <torch_geometric.loader.dataloader.DataLoader at 0x7fb33ad64040>,\n  'val': <torch_geometric.loader.dataloader.DataLoader at 0x7fb32b8b7e80>,\n  'test': <torch_geometric.loader.dataloader.DataLoader at 0x7fb32ae1eca0>,\n  'num_label': 0},\n 13: {'train': <torch_geometric.loader.dataloader.DataLoader at 0x7fb31b223730>,\n  'val': <torch_geometric.loader.dataloader.DataLoader at 0x7fb31e239dc0>,\n  'test': <torch_geometric.loader.dataloader.DataLoader at 0x7fb337231910>,\n  'num_label': 0}}"
     },
     "execution_count": 11,
     "metadata": {},
     "output_type": "execute_result"
    }
   ],
   "source": [
    "data"
   ],
   "metadata": {
    "collapsed": false,
    "pycharm": {
     "name": "#%%\n"
    }
   }
  },
  {
   "cell_type": "code",
   "execution_count": 15,
   "outputs": [
    {
     "name": "stdout",
     "output_type": "stream",
     "text": [
      "<class 'torch.Tensor'>\n"
     ]
    }
   ],
   "source": [
    "print(type(x_data2))"
   ],
   "metadata": {
    "collapsed": false,
    "pycharm": {
     "name": "#%%\n"
    }
   }
  },
  {
   "cell_type": "code",
   "execution_count": 14,
   "outputs": [
    {
     "data": {
      "text/plain": "tensor([1, 2])"
     },
     "execution_count": 14,
     "metadata": {},
     "output_type": "execute_result"
    }
   ],
   "source": [
    "x_data2[0]"
   ],
   "metadata": {
    "collapsed": false,
    "pycharm": {
     "name": "#%%\n"
    }
   }
  },
  {
   "cell_type": "markdown",
   "source": [
    "Hey, a short update:\n",
    "I implemented the method from the paper \"A Bayesian Federated Learning Framework with\n",
    "Online Laplace Approximation\" in FederatedScope.\n",
    "I played around with it but I couldn't really get good results."
   ],
   "metadata": {
    "collapsed": false,
    "pycharm": {
     "name": "#%% md\n"
    }
   }
  },
  {
   "cell_type": "markdown",
   "source": [],
   "metadata": {
    "collapsed": false,
    "pycharm": {
     "name": "#%% md\n"
    }
   }
  },
  {
   "cell_type": "code",
   "execution_count": null,
   "outputs": [],
   "source": [],
   "metadata": {
    "collapsed": false,
    "pycharm": {
     "name": "#%%\n"
    }
   }
  }
 ],
 "metadata": {
  "kernelspec": {
   "display_name": "Python 3",
   "language": "python",
   "name": "python3"
  },
  "language_info": {
   "codemirror_mode": {
    "name": "ipython",
    "version": 2
   },
   "file_extension": ".py",
   "mimetype": "text/x-python",
   "name": "python",
   "nbconvert_exporter": "python",
   "pygments_lexer": "ipython2",
   "version": "2.7.6"
  }
 },
 "nbformat": 4,
 "nbformat_minor": 0
}