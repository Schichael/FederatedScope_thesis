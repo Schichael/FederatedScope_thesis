{
 "cells": [
  {
   "cell_type": "code",
   "execution_count": 1,
   "outputs": [],
   "source": [
    "from federatedscope.register import register_data\n",
    "from federatedscope.register import register_trainer\n",
    "from federatedscope.register import register_metric\n",
    "from federatedscope.register import register_model"
   ],
   "metadata": {
    "collapsed": false,
    "pycharm": {
     "name": "#%%\n"
    }
   }
  },
  {
   "cell_type": "markdown",
   "source": [
    "### Register data"
   ],
   "metadata": {
    "collapsed": false,
    "pycharm": {
     "name": "#%% md\n"
    }
   }
  },
  {
   "cell_type": "code",
   "execution_count": 2,
   "outputs": [],
   "source": [
    "from federatedscope.contrib.data.mnist_data import call_my_data\n",
    "\n",
    "register_data(\"mydata\", call_my_data)"
   ],
   "metadata": {
    "collapsed": false,
    "pycharm": {
     "name": "#%%\n"
    }
   }
  },
  {
   "cell_type": "markdown",
   "source": [
    "### Register model"
   ],
   "metadata": {
    "collapsed": false,
    "pycharm": {
     "name": "#%% md\n"
    }
   }
  },
  {
   "cell_type": "code",
   "execution_count": 3,
   "outputs": [],
   "source": [
    "from federatedscope.contrib.model.mnist_model import call_my_net\n",
    "register_model(\"mynet2\", call_my_net)"
   ],
   "metadata": {
    "collapsed": false,
    "pycharm": {
     "name": "#%%\n"
    }
   }
  },
  {
   "cell_type": "code",
   "execution_count": 3,
   "outputs": [],
   "source": [],
   "metadata": {
    "collapsed": false,
    "pycharm": {
     "name": "#%%\n"
    }
   }
  },
  {
   "cell_type": "markdown",
   "source": [
    "### Register trainer"
   ],
   "metadata": {
    "collapsed": false,
    "pycharm": {
     "name": "#%% md\n"
    }
   }
  },
  {
   "cell_type": "code",
   "execution_count": 4,
   "outputs": [],
   "source": [
    "from federatedscope.contrib.trainer.laplacian_trainer_no_graph import call_laplacian_trainer\n",
    "\n",
    "register_trainer('laplacian_trainer_no_graph', call_laplacian_trainer)"
   ],
   "metadata": {
    "collapsed": false,
    "pycharm": {
     "name": "#%%\n"
    }
   }
  },
  {
   "cell_type": "markdown",
   "source": [
    "### Register metric"
   ],
   "metadata": {
    "collapsed": false,
    "pycharm": {
     "name": "#%% md\n"
    }
   }
  },
  {
   "cell_type": "code",
   "execution_count": 5,
   "outputs": [],
   "source": [
    "from federatedscope.contrib.metrics.mnist_metric import call_my_metric\n",
    "\n",
    "register_metric(\"mymetric\", call_my_metric)"
   ],
   "metadata": {
    "collapsed": false,
    "pycharm": {
     "name": "#%%\n"
    }
   }
  },
  {
   "cell_type": "markdown",
   "source": [
    "### Create the config"
   ],
   "metadata": {
    "collapsed": false,
    "pycharm": {
     "name": "#%% md\n"
    }
   }
  },
  {
   "cell_type": "markdown",
   "source": [
    "#### Set data, model, trainer and metric"
   ],
   "metadata": {
    "collapsed": false,
    "pycharm": {
     "name": "#%% md\n"
    }
   }
  },
  {
   "cell_type": "code",
   "execution_count": 6,
   "outputs": [],
   "source": [
    "from federatedscope.core.configs.config import global_cfg, CN\n",
    "\n",
    "cfg = global_cfg.clone()\n",
    "cfg.data.type = 'mydata'\n",
    "cfg.data.root = 'data'\n",
    "cfg.data.transform = [['ToTensor'], ['Normalize', {'mean': [0.1307], 'std': [0.3081]}]]\n",
    "cfg.model.type = 'mynet2'\n",
    "cfg.model.in_channels = 1\n",
    "cfg.model.out_channels = 10\n",
    "cfg.trainer.type = 'laplacian_trainer'\n",
    "cfg.eval.metric = ['mymetric']"
   ],
   "metadata": {
    "collapsed": false,
    "pycharm": {
     "name": "#%%\n"
    }
   }
  },
  {
   "cell_type": "markdown",
   "source": [
    "#### configure other options"
   ],
   "metadata": {
    "collapsed": false,
    "pycharm": {
     "name": "#%% md\n"
    }
   }
  },
  {
   "cell_type": "code",
   "execution_count": 7,
   "outputs": [],
   "source": [
    "cfg.use_gpu = True\n",
    "cfg.best_res_update_round_wise_key = \"test_loss\"\n",
    "\n",
    "cfg.federate.mode = 'standalone'\n",
    "cfg.federate.local_update_steps = 1\n",
    "cfg.federate.total_round_num = 2\n",
    "cfg.federate.sample_client_num = 50\n",
    "cfg.federate.client_num = 50\n",
    "\n",
    "cfg.train.optimizer.lr = 0.1\n",
    "cfg.train.optimizer.weight_decay = 0.0\n",
    "cfg.grad.grad_clip = 5.0\n",
    "cfg.train.local_update_steps = 5\n",
    "cfg.train.batch_or_epoch = 'epoch'\n",
    "cfg.criterion.type = 'CrossEntropyLoss'\n",
    "cfg.seed = 123\n",
    "cfg.eval.best_res_update_round_wise_key = \"test_loss\"\n",
    "cfg.params = CN()\n",
    "cfg.params.alpha=0.01\n",
    "cfg.params.csd_importance=1\n",
    "cfg.params.eps=1e-5\n",
    "cfg.params.p=0.\n",
    "cfg.eval.metrics = ['acc']"
   ],
   "metadata": {
    "collapsed": false,
    "pycharm": {
     "name": "#%%\n"
    }
   }
  },
  {
   "cell_type": "markdown",
   "source": [
    "### Start the FL prosess"
   ],
   "metadata": {
    "collapsed": false,
    "pycharm": {
     "name": "#%% md\n"
    }
   }
  },
  {
   "cell_type": "code",
   "execution_count": 8,
   "outputs": [
    {
     "name": "stderr",
     "output_type": "stream",
     "text": [
      "2022-09-06 20:30:59,688 (register:12)WARNING: Key mydata is already pre-defined, overwritten.\n"
     ]
    }
   ],
   "source": [
    "from federatedscope.core.auxiliaries.data_builder import get_data\n",
    "from federatedscope.core.auxiliaries.utils import setup_seed, update_logger\n",
    "from federatedscope.core.fed_runner import FedRunner\n",
    "from federatedscope.core.auxiliaries.worker_builder import get_server_cls, get_client_cls\n"
   ],
   "metadata": {
    "collapsed": false,
    "pycharm": {
     "name": "#%%\n"
    }
   }
  },
  {
   "cell_type": "code",
   "execution_count": 9,
   "outputs": [],
   "source": [
    "from federatedscope.contrib.workers.laplacian_client_no_graph import LaplacianClient\n",
    "from federatedscope.contrib.workers.laplacian_server import LaplacianServer"
   ],
   "metadata": {
    "collapsed": false,
    "pycharm": {
     "name": "#%%\n"
    }
   }
  },
  {
   "cell_type": "code",
   "execution_count": 10,
   "outputs": [
    {
     "name": "stderr",
     "output_type": "stream",
     "text": [
      "2022-09-06 20:30:59,715 (utils:129)INFO: the current machine is at 127.0.1.1\n",
      "2022-09-06 20:30:59,716 (utils:131)INFO: the current dir is /home/michael/Master thesis/Code/FederatedScope_thesis\n",
      "2022-09-06 20:30:59,716 (utils:132)INFO: the output dir is exp/FedAvg_mynet2_on_mydata_lr0.1_lstep5_/sub_exp_20220906203059\n"
     ]
    }
   ],
   "source": [
    "\n",
    "setup_seed(cfg.seed)\n",
    "update_logger(cfg)\n",
    "data, modified_cfg = get_data(cfg)\n",
    "cfg.merge_from_other_cfg(modified_cfg)\n"
   ],
   "metadata": {
    "collapsed": false,
    "pycharm": {
     "name": "#%%\n"
    }
   }
  },
  {
   "cell_type": "code",
   "execution_count": 11,
   "outputs": [
    {
     "name": "stderr",
     "output_type": "stream",
     "text": [
      "2022-09-06 20:30:59,727 (register:12)WARNING: Key mydata is already pre-defined, overwritten.\n"
     ]
    }
   ],
   "source": [
    "from federatedscope.contrib.data.mnist_data import call_my_data\n",
    "\n",
    "register_data(\"mydata\", call_my_data)"
   ],
   "metadata": {
    "collapsed": false,
    "pycharm": {
     "name": "#%%\n"
    }
   }
  },
  {
   "cell_type": "code",
   "execution_count": 12,
   "outputs": [
    {
     "name": "stderr",
     "output_type": "stream",
     "text": [
      "2022-09-06 20:30:59,741 (utils:129)INFO: the current machine is at 127.0.1.1\n",
      "2022-09-06 20:30:59,742 (utils:131)INFO: the current dir is /home/michael/Master thesis/Code/FederatedScope_thesis\n",
      "2022-09-06 20:30:59,743 (utils:132)INFO: the output dir is exp/FedAvg_mynet2_on_mydata_lr0.1_lstep5_/sub_exp_20220906203059/FedAvg_mynet2_on_mydata_lr0.1_lstep5__\n"
     ]
    },
    {
     "name": "stdout",
     "output_type": "stream",
     "text": [
      "train per client: 20\n"
     ]
    }
   ],
   "source": [
    "\n",
    "setup_seed(cfg.seed)\n",
    "update_logger(cfg)\n",
    "data, modified_cfg = get_data(cfg)\n",
    "cfg.merge_from_other_cfg(modified_cfg)\n"
   ],
   "metadata": {
    "collapsed": false,
    "pycharm": {
     "name": "#%%\n"
    }
   }
  },
  {
   "cell_type": "code",
   "execution_count": 13,
   "outputs": [
    {
     "name": "stderr",
     "output_type": "stream",
     "text": [
      "2022-09-06 20:31:03,488 (fed_runner:249)INFO: Server #0 has been set up ... \n",
      "2022-09-06 20:31:03,581 (trainer:50)WARNING: Will not use monitor in trainer with class <class 'federatedscope.contrib.trainer.laplacian_trainer_no_graph.LaplacianTrainerNoGraph'>\n",
      "2022-09-06 20:31:03,582 (fed_runner:302)INFO: Client 1 has been set up ... \n",
      "2022-09-06 20:31:03,677 (trainer:50)WARNING: Will not use monitor in trainer with class <class 'federatedscope.contrib.trainer.laplacian_trainer_no_graph.LaplacianTrainerNoGraph'>\n",
      "2022-09-06 20:31:03,679 (fed_runner:302)INFO: Client 2 has been set up ... \n",
      "2022-09-06 20:31:03,766 (trainer:50)WARNING: Will not use monitor in trainer with class <class 'federatedscope.contrib.trainer.laplacian_trainer_no_graph.LaplacianTrainerNoGraph'>\n",
      "2022-09-06 20:31:03,767 (fed_runner:302)INFO: Client 3 has been set up ... \n",
      "2022-09-06 20:31:03,865 (trainer:50)WARNING: Will not use monitor in trainer with class <class 'federatedscope.contrib.trainer.laplacian_trainer_no_graph.LaplacianTrainerNoGraph'>\n",
      "2022-09-06 20:31:03,867 (fed_runner:302)INFO: Client 4 has been set up ... \n",
      "2022-09-06 20:31:03,954 (trainer:50)WARNING: Will not use monitor in trainer with class <class 'federatedscope.contrib.trainer.laplacian_trainer_no_graph.LaplacianTrainerNoGraph'>\n",
      "2022-09-06 20:31:03,955 (fed_runner:302)INFO: Client 5 has been set up ... \n",
      "2022-09-06 20:31:04,042 (trainer:50)WARNING: Will not use monitor in trainer with class <class 'federatedscope.contrib.trainer.laplacian_trainer_no_graph.LaplacianTrainerNoGraph'>\n",
      "2022-09-06 20:31:04,043 (fed_runner:302)INFO: Client 6 has been set up ... \n",
      "2022-09-06 20:31:04,149 (trainer:50)WARNING: Will not use monitor in trainer with class <class 'federatedscope.contrib.trainer.laplacian_trainer_no_graph.LaplacianTrainerNoGraph'>\n",
      "2022-09-06 20:31:04,150 (fed_runner:302)INFO: Client 7 has been set up ... \n",
      "2022-09-06 20:31:04,243 (trainer:50)WARNING: Will not use monitor in trainer with class <class 'federatedscope.contrib.trainer.laplacian_trainer_no_graph.LaplacianTrainerNoGraph'>\n",
      "2022-09-06 20:31:04,244 (fed_runner:302)INFO: Client 8 has been set up ... \n",
      "2022-09-06 20:31:04,335 (trainer:50)WARNING: Will not use monitor in trainer with class <class 'federatedscope.contrib.trainer.laplacian_trainer_no_graph.LaplacianTrainerNoGraph'>\n",
      "2022-09-06 20:31:04,336 (fed_runner:302)INFO: Client 9 has been set up ... \n",
      "2022-09-06 20:31:04,421 (trainer:50)WARNING: Will not use monitor in trainer with class <class 'federatedscope.contrib.trainer.laplacian_trainer_no_graph.LaplacianTrainerNoGraph'>\n",
      "2022-09-06 20:31:04,422 (fed_runner:302)INFO: Client 10 has been set up ... \n",
      "2022-09-06 20:31:04,509 (trainer:50)WARNING: Will not use monitor in trainer with class <class 'federatedscope.contrib.trainer.laplacian_trainer_no_graph.LaplacianTrainerNoGraph'>\n",
      "2022-09-06 20:31:04,510 (fed_runner:302)INFO: Client 11 has been set up ... \n",
      "2022-09-06 20:31:04,606 (trainer:50)WARNING: Will not use monitor in trainer with class <class 'federatedscope.contrib.trainer.laplacian_trainer_no_graph.LaplacianTrainerNoGraph'>\n",
      "2022-09-06 20:31:04,607 (fed_runner:302)INFO: Client 12 has been set up ... \n",
      "2022-09-06 20:31:04,695 (trainer:50)WARNING: Will not use monitor in trainer with class <class 'federatedscope.contrib.trainer.laplacian_trainer_no_graph.LaplacianTrainerNoGraph'>\n",
      "2022-09-06 20:31:04,696 (fed_runner:302)INFO: Client 13 has been set up ... \n",
      "2022-09-06 20:31:04,793 (trainer:50)WARNING: Will not use monitor in trainer with class <class 'federatedscope.contrib.trainer.laplacian_trainer_no_graph.LaplacianTrainerNoGraph'>\n",
      "2022-09-06 20:31:04,794 (fed_runner:302)INFO: Client 14 has been set up ... \n",
      "2022-09-06 20:31:04,890 (trainer:50)WARNING: Will not use monitor in trainer with class <class 'federatedscope.contrib.trainer.laplacian_trainer_no_graph.LaplacianTrainerNoGraph'>\n",
      "2022-09-06 20:31:04,892 (fed_runner:302)INFO: Client 15 has been set up ... \n",
      "2022-09-06 20:31:04,982 (trainer:50)WARNING: Will not use monitor in trainer with class <class 'federatedscope.contrib.trainer.laplacian_trainer_no_graph.LaplacianTrainerNoGraph'>\n",
      "2022-09-06 20:31:04,984 (fed_runner:302)INFO: Client 16 has been set up ... \n",
      "2022-09-06 20:31:05,075 (trainer:50)WARNING: Will not use monitor in trainer with class <class 'federatedscope.contrib.trainer.laplacian_trainer_no_graph.LaplacianTrainerNoGraph'>\n",
      "2022-09-06 20:31:05,076 (fed_runner:302)INFO: Client 17 has been set up ... \n",
      "2022-09-06 20:31:05,162 (trainer:50)WARNING: Will not use monitor in trainer with class <class 'federatedscope.contrib.trainer.laplacian_trainer_no_graph.LaplacianTrainerNoGraph'>\n",
      "2022-09-06 20:31:05,163 (fed_runner:302)INFO: Client 18 has been set up ... \n",
      "2022-09-06 20:31:05,263 (trainer:50)WARNING: Will not use monitor in trainer with class <class 'federatedscope.contrib.trainer.laplacian_trainer_no_graph.LaplacianTrainerNoGraph'>\n",
      "2022-09-06 20:31:05,264 (fed_runner:302)INFO: Client 19 has been set up ... \n",
      "2022-09-06 20:31:05,364 (trainer:50)WARNING: Will not use monitor in trainer with class <class 'federatedscope.contrib.trainer.laplacian_trainer_no_graph.LaplacianTrainerNoGraph'>\n",
      "2022-09-06 20:31:05,365 (fed_runner:302)INFO: Client 20 has been set up ... \n",
      "2022-09-06 20:31:05,461 (trainer:50)WARNING: Will not use monitor in trainer with class <class 'federatedscope.contrib.trainer.laplacian_trainer_no_graph.LaplacianTrainerNoGraph'>\n",
      "2022-09-06 20:31:05,462 (fed_runner:302)INFO: Client 21 has been set up ... \n",
      "2022-09-06 20:31:05,555 (trainer:50)WARNING: Will not use monitor in trainer with class <class 'federatedscope.contrib.trainer.laplacian_trainer_no_graph.LaplacianTrainerNoGraph'>\n",
      "2022-09-06 20:31:05,556 (fed_runner:302)INFO: Client 22 has been set up ... \n",
      "2022-09-06 20:31:05,645 (trainer:50)WARNING: Will not use monitor in trainer with class <class 'federatedscope.contrib.trainer.laplacian_trainer_no_graph.LaplacianTrainerNoGraph'>\n",
      "2022-09-06 20:31:05,646 (fed_runner:302)INFO: Client 23 has been set up ... \n",
      "2022-09-06 20:31:05,734 (trainer:50)WARNING: Will not use monitor in trainer with class <class 'federatedscope.contrib.trainer.laplacian_trainer_no_graph.LaplacianTrainerNoGraph'>\n",
      "2022-09-06 20:31:05,735 (fed_runner:302)INFO: Client 24 has been set up ... \n",
      "2022-09-06 20:31:05,823 (trainer:50)WARNING: Will not use monitor in trainer with class <class 'federatedscope.contrib.trainer.laplacian_trainer_no_graph.LaplacianTrainerNoGraph'>\n",
      "2022-09-06 20:31:05,825 (fed_runner:302)INFO: Client 25 has been set up ... \n",
      "2022-09-06 20:31:05,915 (trainer:50)WARNING: Will not use monitor in trainer with class <class 'federatedscope.contrib.trainer.laplacian_trainer_no_graph.LaplacianTrainerNoGraph'>\n",
      "2022-09-06 20:31:05,916 (fed_runner:302)INFO: Client 26 has been set up ... \n",
      "2022-09-06 20:31:06,010 (trainer:50)WARNING: Will not use monitor in trainer with class <class 'federatedscope.contrib.trainer.laplacian_trainer_no_graph.LaplacianTrainerNoGraph'>\n",
      "2022-09-06 20:31:06,012 (fed_runner:302)INFO: Client 27 has been set up ... \n",
      "2022-09-06 20:31:06,108 (trainer:50)WARNING: Will not use monitor in trainer with class <class 'federatedscope.contrib.trainer.laplacian_trainer_no_graph.LaplacianTrainerNoGraph'>\n",
      "2022-09-06 20:31:06,109 (fed_runner:302)INFO: Client 28 has been set up ... \n",
      "2022-09-06 20:31:06,204 (trainer:50)WARNING: Will not use monitor in trainer with class <class 'federatedscope.contrib.trainer.laplacian_trainer_no_graph.LaplacianTrainerNoGraph'>\n",
      "2022-09-06 20:31:06,206 (fed_runner:302)INFO: Client 29 has been set up ... \n",
      "2022-09-06 20:31:06,300 (trainer:50)WARNING: Will not use monitor in trainer with class <class 'federatedscope.contrib.trainer.laplacian_trainer_no_graph.LaplacianTrainerNoGraph'>\n",
      "2022-09-06 20:31:06,301 (fed_runner:302)INFO: Client 30 has been set up ... \n",
      "2022-09-06 20:31:06,389 (trainer:50)WARNING: Will not use monitor in trainer with class <class 'federatedscope.contrib.trainer.laplacian_trainer_no_graph.LaplacianTrainerNoGraph'>\n",
      "2022-09-06 20:31:06,390 (fed_runner:302)INFO: Client 31 has been set up ... \n",
      "2022-09-06 20:31:06,480 (trainer:50)WARNING: Will not use monitor in trainer with class <class 'federatedscope.contrib.trainer.laplacian_trainer_no_graph.LaplacianTrainerNoGraph'>\n",
      "2022-09-06 20:31:06,481 (fed_runner:302)INFO: Client 32 has been set up ... \n",
      "2022-09-06 20:31:06,568 (trainer:50)WARNING: Will not use monitor in trainer with class <class 'federatedscope.contrib.trainer.laplacian_trainer_no_graph.LaplacianTrainerNoGraph'>\n",
      "2022-09-06 20:31:06,569 (fed_runner:302)INFO: Client 33 has been set up ... \n",
      "2022-09-06 20:31:06,663 (trainer:50)WARNING: Will not use monitor in trainer with class <class 'federatedscope.contrib.trainer.laplacian_trainer_no_graph.LaplacianTrainerNoGraph'>\n",
      "2022-09-06 20:31:06,664 (fed_runner:302)INFO: Client 34 has been set up ... \n",
      "2022-09-06 20:31:06,752 (trainer:50)WARNING: Will not use monitor in trainer with class <class 'federatedscope.contrib.trainer.laplacian_trainer_no_graph.LaplacianTrainerNoGraph'>\n",
      "2022-09-06 20:31:06,753 (fed_runner:302)INFO: Client 35 has been set up ... \n",
      "2022-09-06 20:31:06,840 (trainer:50)WARNING: Will not use monitor in trainer with class <class 'federatedscope.contrib.trainer.laplacian_trainer_no_graph.LaplacianTrainerNoGraph'>\n",
      "2022-09-06 20:31:06,841 (fed_runner:302)INFO: Client 36 has been set up ... \n",
      "2022-09-06 20:31:06,933 (trainer:50)WARNING: Will not use monitor in trainer with class <class 'federatedscope.contrib.trainer.laplacian_trainer_no_graph.LaplacianTrainerNoGraph'>\n",
      "2022-09-06 20:31:06,934 (fed_runner:302)INFO: Client 37 has been set up ... \n",
      "2022-09-06 20:31:07,024 (trainer:50)WARNING: Will not use monitor in trainer with class <class 'federatedscope.contrib.trainer.laplacian_trainer_no_graph.LaplacianTrainerNoGraph'>\n",
      "2022-09-06 20:31:07,025 (fed_runner:302)INFO: Client 38 has been set up ... \n",
      "2022-09-06 20:31:07,112 (trainer:50)WARNING: Will not use monitor in trainer with class <class 'federatedscope.contrib.trainer.laplacian_trainer_no_graph.LaplacianTrainerNoGraph'>\n",
      "2022-09-06 20:31:07,113 (fed_runner:302)INFO: Client 39 has been set up ... \n",
      "2022-09-06 20:31:07,199 (trainer:50)WARNING: Will not use monitor in trainer with class <class 'federatedscope.contrib.trainer.laplacian_trainer_no_graph.LaplacianTrainerNoGraph'>\n",
      "2022-09-06 20:31:07,200 (fed_runner:302)INFO: Client 40 has been set up ... \n",
      "2022-09-06 20:31:07,288 (trainer:50)WARNING: Will not use monitor in trainer with class <class 'federatedscope.contrib.trainer.laplacian_trainer_no_graph.LaplacianTrainerNoGraph'>\n",
      "2022-09-06 20:31:07,289 (fed_runner:302)INFO: Client 41 has been set up ... \n",
      "2022-09-06 20:31:07,377 (trainer:50)WARNING: Will not use monitor in trainer with class <class 'federatedscope.contrib.trainer.laplacian_trainer_no_graph.LaplacianTrainerNoGraph'>\n",
      "2022-09-06 20:31:07,379 (fed_runner:302)INFO: Client 42 has been set up ... \n",
      "2022-09-06 20:31:07,469 (trainer:50)WARNING: Will not use monitor in trainer with class <class 'federatedscope.contrib.trainer.laplacian_trainer_no_graph.LaplacianTrainerNoGraph'>\n",
      "2022-09-06 20:31:07,470 (fed_runner:302)INFO: Client 43 has been set up ... \n",
      "2022-09-06 20:31:07,564 (trainer:50)WARNING: Will not use monitor in trainer with class <class 'federatedscope.contrib.trainer.laplacian_trainer_no_graph.LaplacianTrainerNoGraph'>\n",
      "2022-09-06 20:31:07,565 (fed_runner:302)INFO: Client 44 has been set up ... \n",
      "2022-09-06 20:31:07,659 (trainer:50)WARNING: Will not use monitor in trainer with class <class 'federatedscope.contrib.trainer.laplacian_trainer_no_graph.LaplacianTrainerNoGraph'>\n",
      "2022-09-06 20:31:07,660 (fed_runner:302)INFO: Client 45 has been set up ... \n",
      "2022-09-06 20:31:07,751 (trainer:50)WARNING: Will not use monitor in trainer with class <class 'federatedscope.contrib.trainer.laplacian_trainer_no_graph.LaplacianTrainerNoGraph'>\n",
      "2022-09-06 20:31:07,753 (fed_runner:302)INFO: Client 46 has been set up ... \n",
      "2022-09-06 20:31:07,841 (trainer:50)WARNING: Will not use monitor in trainer with class <class 'federatedscope.contrib.trainer.laplacian_trainer_no_graph.LaplacianTrainerNoGraph'>\n",
      "2022-09-06 20:31:07,842 (fed_runner:302)INFO: Client 47 has been set up ... \n",
      "2022-09-06 20:31:07,940 (trainer:50)WARNING: Will not use monitor in trainer with class <class 'federatedscope.contrib.trainer.laplacian_trainer_no_graph.LaplacianTrainerNoGraph'>\n",
      "2022-09-06 20:31:07,941 (fed_runner:302)INFO: Client 48 has been set up ... \n",
      "2022-09-06 20:31:08,040 (trainer:50)WARNING: Will not use monitor in trainer with class <class 'federatedscope.contrib.trainer.laplacian_trainer_no_graph.LaplacianTrainerNoGraph'>\n",
      "2022-09-06 20:31:08,042 (fed_runner:302)INFO: Client 49 has been set up ... \n",
      "2022-09-06 20:31:08,141 (trainer:50)WARNING: Will not use monitor in trainer with class <class 'federatedscope.contrib.trainer.laplacian_trainer_no_graph.LaplacianTrainerNoGraph'>\n",
      "2022-09-06 20:31:08,142 (fed_runner:302)INFO: Client 50 has been set up ... \n",
      "2022-09-06 20:31:08,143 (trainer:323)INFO: Model meta-info: <class 'federatedscope.contrib.model.mnist_model.MyNet'>.\n",
      "2022-09-06 20:31:08,143 (trainer:331)INFO: Num of original para names: 8.\n",
      "2022-09-06 20:31:08,144 (trainer:332)INFO: Num of original trainable para names: 8.\n",
      "2022-09-06 20:31:08,144 (trainer:334)INFO: Num of preserved para names in local update: 8. \n",
      "Preserved para names in local update: {'conv2.weight', 'fc2.weight', 'conv2.bias', 'conv1.bias', 'fc1.bias', 'fc1.weight', 'fc2.bias', 'conv1.weight'}.\n",
      "2022-09-06 20:31:08,145 (trainer:338)INFO: Num of filtered para names in local update: 0. \n",
      "Filtered para names in local update: set().\n",
      "2022-09-06 20:31:08,145 (trainer:343)INFO: After register default hooks,\n",
      "\tthe hooks_in_train is:\n",
      "\t{\n",
      "\t  \"on_fit_start\": [\n",
      "\t    \"_hook_on_fit_start_init\",\n",
      "\t    \"_hook_on_fit_start_calculate_model_size\"\n",
      "\t  ],\n",
      "\t  \"on_epoch_start\": [\n",
      "\t    \"_hook_on_epoch_start\"\n",
      "\t  ],\n",
      "\t  \"on_batch_start\": [\n",
      "\t    \"_hook_on_batch_start_init\"\n",
      "\t  ],\n",
      "\t  \"on_batch_forward\": [\n",
      "\t    \"_hook_on_batch_forward\",\n",
      "\t    \"_hook_on_batch_forward_regularizer\",\n",
      "\t    \"_hook_on_batch_forward_flop_count\"\n",
      "\t  ],\n",
      "\t  \"on_batch_backward\": [\n",
      "\t    \"_hook_on_batch_backward\"\n",
      "\t  ],\n",
      "\t  \"on_batch_end\": [\n",
      "\t    \"_hook_on_batch_end\"\n",
      "\t  ],\n",
      "\t  \"on_fit_end\": [\n",
      "\t    \"_hook_on_fit_end\"\n",
      "\t  ]\n",
      "\t};\n",
      "\tthe hooks_in_eval is:\n",
      "            t{\n",
      "\t  \"on_fit_start\": [\n",
      "\t    \"_hook_on_fit_start_init\"\n",
      "\t  ],\n",
      "\t  \"on_epoch_start\": [\n",
      "\t    \"_hook_on_epoch_start\"\n",
      "\t  ],\n",
      "\t  \"on_batch_start\": [\n",
      "\t    \"_hook_on_batch_start_init\"\n",
      "\t  ],\n",
      "\t  \"on_batch_forward\": [\n",
      "\t    \"_hook_on_batch_forward\"\n",
      "\t  ],\n",
      "\t  \"on_batch_end\": [\n",
      "\t    \"_hook_on_batch_end\"\n",
      "\t  ],\n",
      "\t  \"on_fit_end\": [\n",
      "\t    \"_hook_on_fit_end\"\n",
      "\t  ]\n",
      "\t}\n",
      "2022-09-06 20:31:08,153 (server:628)INFO: ----------- Starting training (Round #0) -------------\n",
      "2022-09-06 20:31:08,841 (laplacian_client_no_graph:118)INFO: {'Role': 'Client #11', 'Round': 0, 'Results_raw': {'train_avg_loss': 1.836279, 'train_loss': 183.627884, 'train_acc': 0.46, 'train_total': 100}}\n",
      "2022-09-06 20:31:08,878 (laplacian_client_no_graph:118)INFO: {'Role': 'Client #14', 'Round': 0, 'Results_raw': {'train_avg_loss': 2.035261, 'train_loss': 203.526084, 'train_acc': 0.44, 'train_total': 100}}\n",
      "2022-09-06 20:31:08,908 (laplacian_client_no_graph:118)INFO: {'Role': 'Client #31', 'Round': 0, 'Results_raw': {'train_avg_loss': 2.063054, 'train_loss': 206.305399, 'train_acc': 0.45, 'train_total': 100}}\n",
      "2022-09-06 20:31:08,941 (laplacian_client_no_graph:118)INFO: {'Role': 'Client #47', 'Round': 0, 'Results_raw': {'train_avg_loss': 1.936644, 'train_loss': 193.664434, 'train_acc': 0.39, 'train_total': 100}}\n",
      "2022-09-06 20:31:08,971 (laplacian_client_no_graph:118)INFO: {'Role': 'Client #19', 'Round': 0, 'Results_raw': {'train_avg_loss': 1.80888, 'train_loss': 180.888035, 'train_acc': 0.4, 'train_total': 100}}\n",
      "2022-09-06 20:31:09,005 (laplacian_client_no_graph:118)INFO: {'Role': 'Client #1', 'Round': 0, 'Results_raw': {'train_avg_loss': 2.045133, 'train_loss': 204.513302, 'train_acc': 0.27, 'train_total': 100}}\n",
      "2022-09-06 20:31:09,035 (laplacian_client_no_graph:118)INFO: {'Role': 'Client #41', 'Round': 0, 'Results_raw': {'train_avg_loss': 1.848331, 'train_loss': 184.833093, 'train_acc': 0.46, 'train_total': 100}}\n",
      "2022-09-06 20:31:09,065 (laplacian_client_no_graph:118)INFO: {'Role': 'Client #13', 'Round': 0, 'Results_raw': {'train_avg_loss': 2.017327, 'train_loss': 201.7327, 'train_acc': 0.23, 'train_total': 100}}\n",
      "2022-09-06 20:31:09,095 (laplacian_client_no_graph:118)INFO: {'Role': 'Client #30', 'Round': 0, 'Results_raw': {'train_avg_loss': 1.974936, 'train_loss': 197.493563, 'train_acc': 0.27, 'train_total': 100}}\n",
      "2022-09-06 20:31:09,126 (laplacian_client_no_graph:118)INFO: {'Role': 'Client #9', 'Round': 0, 'Results_raw': {'train_avg_loss': 1.938339, 'train_loss': 193.833861, 'train_acc': 0.32, 'train_total': 100}}\n",
      "2022-09-06 20:31:09,152 (laplacian_client_no_graph:118)INFO: {'Role': 'Client #22', 'Round': 0, 'Results_raw': {'train_avg_loss': 1.846838, 'train_loss': 184.683781, 'train_acc': 0.42, 'train_total': 100}}\n",
      "2022-09-06 20:31:09,188 (laplacian_client_no_graph:118)INFO: {'Role': 'Client #48', 'Round': 0, 'Results_raw': {'train_avg_loss': 1.904865, 'train_loss': 190.486474, 'train_acc': 0.38, 'train_total': 100}}\n",
      "2022-09-06 20:31:09,217 (laplacian_client_no_graph:118)INFO: {'Role': 'Client #12', 'Round': 0, 'Results_raw': {'train_avg_loss': 2.041804, 'train_loss': 204.180372, 'train_acc': 0.41, 'train_total': 100}}\n",
      "2022-09-06 20:31:09,249 (laplacian_client_no_graph:118)INFO: {'Role': 'Client #42', 'Round': 0, 'Results_raw': {'train_avg_loss': 1.938517, 'train_loss': 193.851736, 'train_acc': 0.58, 'train_total': 100}}\n",
      "2022-09-06 20:31:09,284 (laplacian_client_no_graph:118)INFO: {'Role': 'Client #6', 'Round': 0, 'Results_raw': {'train_avg_loss': 1.860947, 'train_loss': 186.094689, 'train_acc': 0.37, 'train_total': 100}}\n",
      "2022-09-06 20:31:09,316 (laplacian_client_no_graph:118)INFO: {'Role': 'Client #2', 'Round': 0, 'Results_raw': {'train_avg_loss': 2.036855, 'train_loss': 203.685467, 'train_acc': 0.32, 'train_total': 100}}\n",
      "2022-09-06 20:31:09,353 (laplacian_client_no_graph:118)INFO: {'Role': 'Client #7', 'Round': 0, 'Results_raw': {'train_avg_loss': 2.0318, 'train_loss': 203.179989, 'train_acc': 0.32, 'train_total': 100}}\n",
      "2022-09-06 20:31:09,388 (laplacian_client_no_graph:118)INFO: {'Role': 'Client #28', 'Round': 0, 'Results_raw': {'train_avg_loss': 1.95319, 'train_loss': 195.319047, 'train_acc': 0.36, 'train_total': 100}}\n",
      "2022-09-06 20:31:09,424 (laplacian_client_no_graph:118)INFO: {'Role': 'Client #50', 'Round': 0, 'Results_raw': {'train_avg_loss': 1.941521, 'train_loss': 194.152062, 'train_acc': 0.37, 'train_total': 100}}\n",
      "2022-09-06 20:31:09,466 (laplacian_client_no_graph:118)INFO: {'Role': 'Client #25', 'Round': 0, 'Results_raw': {'train_avg_loss': 2.012199, 'train_loss': 201.219862, 'train_acc': 0.36, 'train_total': 100}}\n",
      "2022-09-06 20:31:09,502 (laplacian_client_no_graph:118)INFO: {'Role': 'Client #32', 'Round': 0, 'Results_raw': {'train_avg_loss': 1.884373, 'train_loss': 188.437347, 'train_acc': 0.37, 'train_total': 100}}\n",
      "2022-09-06 20:31:09,533 (laplacian_client_no_graph:118)INFO: {'Role': 'Client #16', 'Round': 0, 'Results_raw': {'train_avg_loss': 1.918056, 'train_loss': 191.805561, 'train_acc': 0.42, 'train_total': 100}}\n",
      "2022-09-06 20:31:09,565 (laplacian_client_no_graph:118)INFO: {'Role': 'Client #36', 'Round': 0, 'Results_raw': {'train_avg_loss': 2.026772, 'train_loss': 202.67719, 'train_acc': 0.4, 'train_total': 100}}\n",
      "2022-09-06 20:31:09,598 (laplacian_client_no_graph:118)INFO: {'Role': 'Client #27', 'Round': 0, 'Results_raw': {'train_avg_loss': 1.91305, 'train_loss': 191.305037, 'train_acc': 0.46, 'train_total': 100}}\n",
      "2022-09-06 20:31:09,627 (laplacian_client_no_graph:118)INFO: {'Role': 'Client #8', 'Round': 0, 'Results_raw': {'train_avg_loss': 2.022056, 'train_loss': 202.205572, 'train_acc': 0.33, 'train_total': 100}}\n",
      "2022-09-06 20:31:09,664 (laplacian_client_no_graph:118)INFO: {'Role': 'Client #21', 'Round': 0, 'Results_raw': {'train_avg_loss': 1.969635, 'train_loss': 196.963456, 'train_acc': 0.32, 'train_total': 100}}\n",
      "2022-09-06 20:31:09,695 (laplacian_client_no_graph:118)INFO: {'Role': 'Client #49', 'Round': 0, 'Results_raw': {'train_avg_loss': 1.930245, 'train_loss': 193.024478, 'train_acc': 0.44, 'train_total': 100}}\n",
      "2022-09-06 20:31:09,725 (laplacian_client_no_graph:118)INFO: {'Role': 'Client #4', 'Round': 0, 'Results_raw': {'train_avg_loss': 1.807181, 'train_loss': 180.71805, 'train_acc': 0.45, 'train_total': 100}}\n",
      "2022-09-06 20:31:09,756 (laplacian_client_no_graph:118)INFO: {'Role': 'Client #24', 'Round': 0, 'Results_raw': {'train_avg_loss': 1.996845, 'train_loss': 199.684453, 'train_acc': 0.45, 'train_total': 100}}\n",
      "2022-09-06 20:31:09,787 (laplacian_client_no_graph:118)INFO: {'Role': 'Client #45', 'Round': 0, 'Results_raw': {'train_avg_loss': 1.905396, 'train_loss': 190.539589, 'train_acc': 0.33, 'train_total': 100}}\n",
      "2022-09-06 20:31:09,814 (laplacian_client_no_graph:118)INFO: {'Role': 'Client #5', 'Round': 0, 'Results_raw': {'train_avg_loss': 1.927786, 'train_loss': 192.778594, 'train_acc': 0.49, 'train_total': 100}}\n",
      "2022-09-06 20:31:09,844 (laplacian_client_no_graph:118)INFO: {'Role': 'Client #17', 'Round': 0, 'Results_raw': {'train_avg_loss': 1.923734, 'train_loss': 192.373354, 'train_acc': 0.55, 'train_total': 100}}\n",
      "2022-09-06 20:31:09,872 (laplacian_client_no_graph:118)INFO: {'Role': 'Client #37', 'Round': 0, 'Results_raw': {'train_avg_loss': 1.836275, 'train_loss': 183.627539, 'train_acc': 0.43, 'train_total': 100}}\n",
      "2022-09-06 20:31:09,907 (laplacian_client_no_graph:118)INFO: {'Role': 'Client #15', 'Round': 0, 'Results_raw': {'train_avg_loss': 1.883242, 'train_loss': 188.32423, 'train_acc': 0.47, 'train_total': 100}}\n",
      "2022-09-06 20:31:09,942 (laplacian_client_no_graph:118)INFO: {'Role': 'Client #44', 'Round': 0, 'Results_raw': {'train_avg_loss': 1.939309, 'train_loss': 193.930895, 'train_acc': 0.28, 'train_total': 100}}\n",
      "2022-09-06 20:31:09,973 (laplacian_client_no_graph:118)INFO: {'Role': 'Client #26', 'Round': 0, 'Results_raw': {'train_avg_loss': 1.915015, 'train_loss': 191.501474, 'train_acc': 0.36, 'train_total': 100}}\n",
      "2022-09-06 20:31:10,009 (laplacian_client_no_graph:118)INFO: {'Role': 'Client #38', 'Round': 0, 'Results_raw': {'train_avg_loss': 1.923806, 'train_loss': 192.380581, 'train_acc': 0.58, 'train_total': 100}}\n",
      "2022-09-06 20:31:10,044 (laplacian_client_no_graph:118)INFO: {'Role': 'Client #40', 'Round': 0, 'Results_raw': {'train_avg_loss': 1.894091, 'train_loss': 189.409111, 'train_acc': 0.37, 'train_total': 100}}\n",
      "2022-09-06 20:31:10,076 (laplacian_client_no_graph:118)INFO: {'Role': 'Client #10', 'Round': 0, 'Results_raw': {'train_avg_loss': 1.918751, 'train_loss': 191.875093, 'train_acc': 0.3, 'train_total': 100}}\n",
      "2022-09-06 20:31:10,107 (laplacian_client_no_graph:118)INFO: {'Role': 'Client #33', 'Round': 0, 'Results_raw': {'train_avg_loss': 1.943686, 'train_loss': 194.368553, 'train_acc': 0.4, 'train_total': 100}}\n",
      "2022-09-06 20:31:10,137 (laplacian_client_no_graph:118)INFO: {'Role': 'Client #34', 'Round': 0, 'Results_raw': {'train_avg_loss': 1.860954, 'train_loss': 186.095407, 'train_acc': 0.3, 'train_total': 100}}\n",
      "2022-09-06 20:31:10,166 (laplacian_client_no_graph:118)INFO: {'Role': 'Client #23', 'Round': 0, 'Results_raw': {'train_avg_loss': 1.870985, 'train_loss': 187.098501, 'train_acc': 0.4, 'train_total': 100}}\n",
      "2022-09-06 20:31:10,195 (laplacian_client_no_graph:118)INFO: {'Role': 'Client #43', 'Round': 0, 'Results_raw': {'train_avg_loss': 1.995483, 'train_loss': 199.548304, 'train_acc': 0.31, 'train_total': 100}}\n",
      "2022-09-06 20:31:10,224 (laplacian_client_no_graph:118)INFO: {'Role': 'Client #20', 'Round': 0, 'Results_raw': {'train_avg_loss': 1.956046, 'train_loss': 195.604627, 'train_acc': 0.27, 'train_total': 100}}\n",
      "2022-09-06 20:31:10,257 (laplacian_client_no_graph:118)INFO: {'Role': 'Client #18', 'Round': 0, 'Results_raw': {'train_avg_loss': 1.852354, 'train_loss': 185.2354, 'train_acc': 0.45, 'train_total': 100}}\n",
      "2022-09-06 20:31:10,288 (laplacian_client_no_graph:118)INFO: {'Role': 'Client #39', 'Round': 0, 'Results_raw': {'train_avg_loss': 1.859522, 'train_loss': 185.952175, 'train_acc': 0.32, 'train_total': 100}}\n",
      "2022-09-06 20:31:10,319 (laplacian_client_no_graph:118)INFO: {'Role': 'Client #35', 'Round': 0, 'Results_raw': {'train_avg_loss': 1.99525, 'train_loss': 199.525018, 'train_acc': 0.33, 'train_total': 100}}\n",
      "2022-09-06 20:31:10,353 (laplacian_client_no_graph:118)INFO: {'Role': 'Client #29', 'Round': 0, 'Results_raw': {'train_avg_loss': 2.048691, 'train_loss': 204.869101, 'train_acc': 0.36, 'train_total': 100}}\n",
      "2022-09-06 20:31:10,386 (laplacian_client_no_graph:118)INFO: {'Role': 'Client #3', 'Round': 0, 'Results_raw': {'train_avg_loss': 1.941318, 'train_loss': 194.131787, 'train_acc': 0.29, 'train_total': 100}}\n",
      "2022-09-06 20:31:10,416 (laplacian_client_no_graph:118)INFO: {'Role': 'Client #46', 'Round': 0, 'Results_raw': {'train_avg_loss': 2.000695, 'train_loss': 200.069475, 'train_acc': 0.32, 'train_total': 100}}\n",
      "2022-09-06 20:31:10,483 (laplacian_server:143)INFO: Server #0: Starting evaluation at the end of round 0.\n",
      "2022-09-06 20:31:10,484 (laplacian_server:150)INFO: ----------- Starting a new training round (Round #1) -------------\n",
      "2022-09-06 20:31:11,131 (laplacian_client_no_graph:118)INFO: {'Role': 'Client #5', 'Round': 1, 'Results_raw': {'train_avg_loss': 1.572054, 'train_loss': 157.205372, 'train_acc': 0.53, 'train_total': 100}}\n",
      "2022-09-06 20:31:11,161 (laplacian_client_no_graph:118)INFO: {'Role': 'Client #6', 'Round': 1, 'Results_raw': {'train_avg_loss': 1.597387, 'train_loss': 159.738727, 'train_acc': 0.63, 'train_total': 100}}\n",
      "2022-09-06 20:31:11,203 (laplacian_client_no_graph:118)INFO: {'Role': 'Client #1', 'Round': 1, 'Results_raw': {'train_avg_loss': 1.85948, 'train_loss': 185.947978, 'train_acc': 0.43, 'train_total': 100}}\n",
      "2022-09-06 20:31:11,235 (laplacian_client_no_graph:118)INFO: {'Role': 'Client #38', 'Round': 1, 'Results_raw': {'train_avg_loss': 1.751074, 'train_loss': 175.107415, 'train_acc': 0.54, 'train_total': 100}}\n",
      "2022-09-06 20:31:11,269 (laplacian_client_no_graph:118)INFO: {'Role': 'Client #24', 'Round': 1, 'Results_raw': {'train_avg_loss': 1.707138, 'train_loss': 170.713754, 'train_acc': 0.5, 'train_total': 100}}\n",
      "2022-09-06 20:31:11,300 (laplacian_client_no_graph:118)INFO: {'Role': 'Client #11', 'Round': 1, 'Results_raw': {'train_avg_loss': 1.497164, 'train_loss': 149.716433, 'train_acc': 0.54, 'train_total': 100}}\n",
      "2022-09-06 20:31:11,329 (laplacian_client_no_graph:118)INFO: {'Role': 'Client #46', 'Round': 1, 'Results_raw': {'train_avg_loss': 1.849696, 'train_loss': 184.969573, 'train_acc': 0.39, 'train_total': 100}}\n",
      "2022-09-06 20:31:11,366 (laplacian_client_no_graph:118)INFO: {'Role': 'Client #41', 'Round': 1, 'Results_raw': {'train_avg_loss': 1.520825, 'train_loss': 152.082545, 'train_acc': 0.54, 'train_total': 100}}\n",
      "2022-09-06 20:31:11,398 (laplacian_client_no_graph:118)INFO: {'Role': 'Client #39', 'Round': 1, 'Results_raw': {'train_avg_loss': 1.833096, 'train_loss': 183.309581, 'train_acc': 0.37, 'train_total': 100}}\n",
      "2022-09-06 20:31:11,425 (laplacian_client_no_graph:118)INFO: {'Role': 'Client #9', 'Round': 1, 'Results_raw': {'train_avg_loss': 1.874487, 'train_loss': 187.448719, 'train_acc': 0.38, 'train_total': 100}}\n",
      "2022-09-06 20:31:11,461 (laplacian_client_no_graph:118)INFO: {'Role': 'Client #32', 'Round': 1, 'Results_raw': {'train_avg_loss': 1.6546, 'train_loss': 165.460036, 'train_acc': 0.49, 'train_total': 100}}\n",
      "2022-09-06 20:31:11,488 (laplacian_client_no_graph:118)INFO: {'Role': 'Client #49', 'Round': 1, 'Results_raw': {'train_avg_loss': 1.690296, 'train_loss': 169.029608, 'train_acc': 0.55, 'train_total': 100}}\n",
      "2022-09-06 20:31:11,522 (laplacian_client_no_graph:118)INFO: {'Role': 'Client #33', 'Round': 1, 'Results_raw': {'train_avg_loss': 1.68007, 'train_loss': 168.007009, 'train_acc': 0.45, 'train_total': 100}}\n",
      "2022-09-06 20:31:11,550 (laplacian_client_no_graph:118)INFO: {'Role': 'Client #29', 'Round': 1, 'Results_raw': {'train_avg_loss': 1.709528, 'train_loss': 170.952806, 'train_acc': 0.41, 'train_total': 100}}\n",
      "2022-09-06 20:31:11,581 (laplacian_client_no_graph:118)INFO: {'Role': 'Client #3', 'Round': 1, 'Results_raw': {'train_avg_loss': 1.767933, 'train_loss': 176.793301, 'train_acc': 0.39, 'train_total': 100}}\n",
      "2022-09-06 20:31:11,609 (laplacian_client_no_graph:118)INFO: {'Role': 'Client #50', 'Round': 1, 'Results_raw': {'train_avg_loss': 1.630431, 'train_loss': 163.043084, 'train_acc': 0.52, 'train_total': 100}}\n",
      "2022-09-06 20:31:11,638 (laplacian_client_no_graph:118)INFO: {'Role': 'Client #36', 'Round': 1, 'Results_raw': {'train_avg_loss': 1.611873, 'train_loss': 161.187294, 'train_acc': 0.5, 'train_total': 100}}\n",
      "2022-09-06 20:31:11,668 (laplacian_client_no_graph:118)INFO: {'Role': 'Client #47', 'Round': 1, 'Results_raw': {'train_avg_loss': 1.592437, 'train_loss': 159.243658, 'train_acc': 0.54, 'train_total': 100}}\n",
      "2022-09-06 20:31:11,700 (laplacian_client_no_graph:118)INFO: {'Role': 'Client #34', 'Round': 1, 'Results_raw': {'train_avg_loss': 1.69889, 'train_loss': 169.888973, 'train_acc': 0.49, 'train_total': 100}}\n",
      "2022-09-06 20:31:11,727 (laplacian_client_no_graph:118)INFO: {'Role': 'Client #4', 'Round': 1, 'Results_raw': {'train_avg_loss': 1.614124, 'train_loss': 161.412445, 'train_acc': 0.56, 'train_total': 100}}\n",
      "2022-09-06 20:31:11,758 (laplacian_client_no_graph:118)INFO: {'Role': 'Client #45', 'Round': 1, 'Results_raw': {'train_avg_loss': 1.838404, 'train_loss': 183.840401, 'train_acc': 0.44, 'train_total': 100}}\n",
      "2022-09-06 20:31:11,784 (laplacian_client_no_graph:118)INFO: {'Role': 'Client #40', 'Round': 1, 'Results_raw': {'train_avg_loss': 1.534884, 'train_loss': 153.488426, 'train_acc': 0.47, 'train_total': 100}}\n",
      "2022-09-06 20:31:11,816 (laplacian_client_no_graph:118)INFO: {'Role': 'Client #10', 'Round': 1, 'Results_raw': {'train_avg_loss': 1.786563, 'train_loss': 178.656342, 'train_acc': 0.37, 'train_total': 100}}\n",
      "2022-09-06 20:31:11,848 (laplacian_client_no_graph:118)INFO: {'Role': 'Client #22', 'Round': 1, 'Results_raw': {'train_avg_loss': 1.6293, 'train_loss': 162.930026, 'train_acc': 0.4, 'train_total': 100}}\n",
      "2022-09-06 20:31:11,876 (laplacian_client_no_graph:118)INFO: {'Role': 'Client #30', 'Round': 1, 'Results_raw': {'train_avg_loss': 1.638127, 'train_loss': 163.812747, 'train_acc': 0.54, 'train_total': 100}}\n",
      "2022-09-06 20:31:11,908 (laplacian_client_no_graph:118)INFO: {'Role': 'Client #20', 'Round': 1, 'Results_raw': {'train_avg_loss': 1.829458, 'train_loss': 182.945797, 'train_acc': 0.51, 'train_total': 100}}\n",
      "2022-09-06 20:31:11,940 (laplacian_client_no_graph:118)INFO: {'Role': 'Client #35', 'Round': 1, 'Results_raw': {'train_avg_loss': 1.817459, 'train_loss': 181.745901, 'train_acc': 0.34, 'train_total': 100}}\n",
      "2022-09-06 20:31:11,974 (laplacian_client_no_graph:118)INFO: {'Role': 'Client #43', 'Round': 1, 'Results_raw': {'train_avg_loss': 1.682309, 'train_loss': 168.230915, 'train_acc': 0.47, 'train_total': 100}}\n",
      "2022-09-06 20:31:12,007 (laplacian_client_no_graph:118)INFO: {'Role': 'Client #48', 'Round': 1, 'Results_raw': {'train_avg_loss': 1.754295, 'train_loss': 175.429511, 'train_acc': 0.43, 'train_total': 100}}\n",
      "2022-09-06 20:31:12,044 (laplacian_client_no_graph:118)INFO: {'Role': 'Client #13', 'Round': 1, 'Results_raw': {'train_avg_loss': 1.815184, 'train_loss': 181.51844, 'train_acc': 0.43, 'train_total': 100}}\n",
      "2022-09-06 20:31:12,080 (laplacian_client_no_graph:118)INFO: {'Role': 'Client #18', 'Round': 1, 'Results_raw': {'train_avg_loss': 1.62991, 'train_loss': 162.991006, 'train_acc': 0.47, 'train_total': 100}}\n",
      "2022-09-06 20:31:12,113 (laplacian_client_no_graph:118)INFO: {'Role': 'Client #25', 'Round': 1, 'Results_raw': {'train_avg_loss': 1.816121, 'train_loss': 181.612086, 'train_acc': 0.37, 'train_total': 100}}\n",
      "2022-09-06 20:31:12,145 (laplacian_client_no_graph:118)INFO: {'Role': 'Client #21', 'Round': 1, 'Results_raw': {'train_avg_loss': 1.831351, 'train_loss': 183.13508, 'train_acc': 0.43, 'train_total': 100}}\n",
      "2022-09-06 20:31:12,179 (laplacian_client_no_graph:118)INFO: {'Role': 'Client #26', 'Round': 1, 'Results_raw': {'train_avg_loss': 1.804943, 'train_loss': 180.494337, 'train_acc': 0.39, 'train_total': 100}}\n",
      "2022-09-06 20:31:12,214 (laplacian_client_no_graph:118)INFO: {'Role': 'Client #2', 'Round': 1, 'Results_raw': {'train_avg_loss': 1.711052, 'train_loss': 171.105185, 'train_acc': 0.41, 'train_total': 100}}\n",
      "2022-09-06 20:31:12,247 (laplacian_client_no_graph:118)INFO: {'Role': 'Client #8', 'Round': 1, 'Results_raw': {'train_avg_loss': 1.777406, 'train_loss': 177.740633, 'train_acc': 0.51, 'train_total': 100}}\n",
      "2022-09-06 20:31:12,281 (laplacian_client_no_graph:118)INFO: {'Role': 'Client #12', 'Round': 1, 'Results_raw': {'train_avg_loss': 1.742822, 'train_loss': 174.282212, 'train_acc': 0.46, 'train_total': 100}}\n",
      "2022-09-06 20:31:12,315 (laplacian_client_no_graph:118)INFO: {'Role': 'Client #15', 'Round': 1, 'Results_raw': {'train_avg_loss': 1.62075, 'train_loss': 162.075005, 'train_acc': 0.44, 'train_total': 100}}\n",
      "2022-09-06 20:31:12,348 (laplacian_client_no_graph:118)INFO: {'Role': 'Client #42', 'Round': 1, 'Results_raw': {'train_avg_loss': 1.677049, 'train_loss': 167.704859, 'train_acc': 0.51, 'train_total': 100}}\n",
      "2022-09-06 20:31:12,381 (laplacian_client_no_graph:118)INFO: {'Role': 'Client #17', 'Round': 1, 'Results_raw': {'train_avg_loss': 1.627594, 'train_loss': 162.759352, 'train_acc': 0.58, 'train_total': 100}}\n",
      "2022-09-06 20:31:12,410 (laplacian_client_no_graph:118)INFO: {'Role': 'Client #27', 'Round': 1, 'Results_raw': {'train_avg_loss': 1.599875, 'train_loss': 159.987533, 'train_acc': 0.48, 'train_total': 100}}\n",
      "2022-09-06 20:31:12,444 (laplacian_client_no_graph:118)INFO: {'Role': 'Client #7', 'Round': 1, 'Results_raw': {'train_avg_loss': 1.672774, 'train_loss': 167.277434, 'train_acc': 0.54, 'train_total': 100}}\n",
      "2022-09-06 20:31:12,471 (laplacian_client_no_graph:118)INFO: {'Role': 'Client #31', 'Round': 1, 'Results_raw': {'train_avg_loss': 1.781201, 'train_loss': 178.120062, 'train_acc': 0.39, 'train_total': 100}}\n",
      "2022-09-06 20:31:12,498 (laplacian_client_no_graph:118)INFO: {'Role': 'Client #28', 'Round': 1, 'Results_raw': {'train_avg_loss': 1.870728, 'train_loss': 187.072773, 'train_acc': 0.3, 'train_total': 100}}\n",
      "2022-09-06 20:31:12,531 (laplacian_client_no_graph:118)INFO: {'Role': 'Client #44', 'Round': 1, 'Results_raw': {'train_avg_loss': 1.631225, 'train_loss': 163.122461, 'train_acc': 0.41, 'train_total': 100}}\n",
      "2022-09-06 20:31:12,565 (laplacian_client_no_graph:118)INFO: {'Role': 'Client #16', 'Round': 1, 'Results_raw': {'train_avg_loss': 1.623997, 'train_loss': 162.399695, 'train_acc': 0.44, 'train_total': 100}}\n",
      "2022-09-06 20:31:12,597 (laplacian_client_no_graph:118)INFO: {'Role': 'Client #37', 'Round': 1, 'Results_raw': {'train_avg_loss': 1.648052, 'train_loss': 164.805214, 'train_acc': 0.54, 'train_total': 100}}\n",
      "2022-09-06 20:31:12,632 (laplacian_client_no_graph:118)INFO: {'Role': 'Client #19', 'Round': 1, 'Results_raw': {'train_avg_loss': 1.75023, 'train_loss': 175.022957, 'train_acc': 0.38, 'train_total': 100}}\n",
      "2022-09-06 20:31:12,665 (laplacian_client_no_graph:118)INFO: {'Role': 'Client #14', 'Round': 1, 'Results_raw': {'train_avg_loss': 1.797962, 'train_loss': 179.796233, 'train_acc': 0.39, 'train_total': 100}}\n",
      "2022-09-06 20:31:12,698 (laplacian_client_no_graph:118)INFO: {'Role': 'Client #23', 'Round': 1, 'Results_raw': {'train_avg_loss': 1.540508, 'train_loss': 154.050782, 'train_acc': 0.52, 'train_total': 100}}\n",
      "2022-09-06 20:31:12,702 (server:480)INFO: {'Role': 'Server #', 'Round': 1, 'Results_weighted_avg': {'test_avg_loss': 2.096277, 'test_loss': 419.255437, 'test_acc': 0.3737, 'test_total': 200.0}, 'Results_avg': {'test_avg_loss': 2.096277, 'test_loss': 419.255437, 'test_acc': 0.3737, 'test_total': 200.0}, 'Results_fairness': {'test_total': 200.0, 'test_avg_loss_std': 0.067467, 'test_avg_loss_bottom_decile': 2.012633, 'test_avg_loss_top_decile': 2.186808, 'test_loss_std': 13.493339, 'test_loss_bottom_decile': 402.526579, 'test_loss_top_decile': 437.361566, 'test_acc_std': 0.036631, 'test_acc_bottom_decile': 0.325, 'test_acc_top_decile': 0.42}}\n",
      "2022-09-06 20:31:12,764 (laplacian_server:161)INFO: Server #0: Training is finished! Starting evaluation.\n",
      "2022-09-06 20:31:13,304 (server:480)INFO: {'Role': 'Server #', 'Round': 2, 'Results_weighted_avg': {'test_avg_loss': 1.515456, 'test_loss': 303.091103, 'test_acc': 0.6951, 'test_total': 200.0}, 'Results_avg': {'test_avg_loss': 1.515456, 'test_loss': 303.091103, 'test_acc': 0.6951, 'test_total': 200.0}, 'Results_fairness': {'test_total': 200.0, 'test_avg_loss_std': 0.096108, 'test_avg_loss_bottom_decile': 1.405319, 'test_avg_loss_top_decile': 1.62515, 'test_loss_std': 19.221527, 'test_loss_bottom_decile': 281.063826, 'test_loss_top_decile': 325.030019, 'test_acc_std': 0.052311, 'test_acc_bottom_decile': 0.63, 'test_acc_top_decile': 0.76}}\n",
      "2022-09-06 20:31:13,305 (server:379)INFO: Server #0: Final evaluation is finished! Starting merging results.\n",
      "2022-09-06 20:31:13,306 (server:409)INFO: {'Role': 'Server #', 'Round': 'Final', 'Results_raw': {'client_best_individual': {'test_loss': 258.939436, 'test_avg_loss': 1.294697, 'test_acc': 0.6, 'test_total': 200.0}, 'client_summarized_weighted_avg': {'test_loss': 303.091103, 'test_avg_loss': 1.515456, 'test_acc': 0.6951, 'test_total': 200.0}, 'client_summarized_avg': {'test_loss': 303.091103, 'test_avg_loss': 1.515456, 'test_acc': 0.6951, 'test_total': 200.0}, 'client_summarized_fairness': {'test_loss_top_decile': 325.030019, 'test_loss_bottom_decile': 281.063826, 'test_loss_std': 19.221527, 'test_total': 200.0, 'test_avg_loss_std': 0.096108, 'test_avg_loss_bottom_decile': 1.405319, 'test_avg_loss_top_decile': 1.62515, 'test_acc_std': 0.052311, 'test_acc_bottom_decile': 0.63, 'test_acc_top_decile': 0.76}}}\n",
      "2022-09-06 20:31:13,307 (server:430)INFO: {'Role': 'Client #1', 'Round': 2, 'Results_raw': {'test_avg_loss': 1.564051, 'test_loss': 312.810108, 'test_acc': 0.69, 'test_total': 200}}\n",
      "2022-09-06 20:31:13,307 (server:430)INFO: {'Role': 'Client #2', 'Round': 2, 'Results_raw': {'test_avg_loss': 1.59333, 'test_loss': 318.66605, 'test_acc': 0.685, 'test_total': 200}}\n",
      "2022-09-06 20:31:13,308 (server:430)INFO: {'Role': 'Client #3', 'Round': 2, 'Results_raw': {'test_avg_loss': 1.599196, 'test_loss': 319.839118, 'test_acc': 0.65, 'test_total': 200}}\n",
      "2022-09-06 20:31:13,309 (server:430)INFO: {'Role': 'Client #4', 'Round': 2, 'Results_raw': {'test_avg_loss': 1.597712, 'test_loss': 319.54244, 'test_acc': 0.69, 'test_total': 200}}\n",
      "2022-09-06 20:31:13,310 (server:430)INFO: {'Role': 'Client #5', 'Round': 2, 'Results_raw': {'test_avg_loss': 1.525278, 'test_loss': 305.055575, 'test_acc': 0.7, 'test_total': 200}}\n",
      "2022-09-06 20:31:13,311 (server:430)INFO: {'Role': 'Client #6', 'Round': 2, 'Results_raw': {'test_avg_loss': 1.62515, 'test_loss': 325.030019, 'test_acc': 0.645, 'test_total': 200}}\n",
      "2022-09-06 20:31:13,312 (server:430)INFO: {'Role': 'Client #7', 'Round': 2, 'Results_raw': {'test_avg_loss': 1.621883, 'test_loss': 324.376514, 'test_acc': 0.61, 'test_total': 200}}\n",
      "2022-09-06 20:31:13,313 (server:430)INFO: {'Role': 'Client #8', 'Round': 2, 'Results_raw': {'test_avg_loss': 1.623908, 'test_loss': 324.781511, 'test_acc': 0.62, 'test_total': 200}}\n",
      "2022-09-06 20:31:13,314 (server:430)INFO: {'Role': 'Client #9', 'Round': 2, 'Results_raw': {'test_avg_loss': 1.615296, 'test_loss': 323.059223, 'test_acc': 0.635, 'test_total': 200}}\n",
      "2022-09-06 20:31:13,314 (server:430)INFO: {'Role': 'Client #10', 'Round': 2, 'Results_raw': {'test_avg_loss': 1.548294, 'test_loss': 309.658748, 'test_acc': 0.685, 'test_total': 200}}\n",
      "2022-09-06 20:31:13,315 (server:430)INFO: {'Role': 'Client #11', 'Round': 2, 'Results_raw': {'test_avg_loss': 1.670875, 'test_loss': 334.175089, 'test_acc': 0.6, 'test_total': 200}}\n",
      "2022-09-06 20:31:13,315 (server:430)INFO: {'Role': 'Client #12', 'Round': 2, 'Results_raw': {'test_avg_loss': 1.562922, 'test_loss': 312.584387, 'test_acc': 0.695, 'test_total': 200}}\n",
      "2022-09-06 20:31:13,316 (server:430)INFO: {'Role': 'Client #13', 'Round': 2, 'Results_raw': {'test_avg_loss': 1.571029, 'test_loss': 314.205753, 'test_acc': 0.67, 'test_total': 200}}\n",
      "2022-09-06 20:31:13,316 (server:430)INFO: {'Role': 'Client #14', 'Round': 2, 'Results_raw': {'test_avg_loss': 1.608989, 'test_loss': 321.797708, 'test_acc': 0.675, 'test_total': 200}}\n",
      "2022-09-06 20:31:13,317 (server:430)INFO: {'Role': 'Client #15', 'Round': 2, 'Results_raw': {'test_avg_loss': 1.584262, 'test_loss': 316.852302, 'test_acc': 0.67, 'test_total': 200}}\n",
      "2022-09-06 20:31:13,318 (server:430)INFO: {'Role': 'Client #16', 'Round': 2, 'Results_raw': {'test_avg_loss': 1.559288, 'test_loss': 311.857691, 'test_acc': 0.72, 'test_total': 200}}\n",
      "2022-09-06 20:31:13,318 (server:430)INFO: {'Role': 'Client #17', 'Round': 2, 'Results_raw': {'test_avg_loss': 1.567652, 'test_loss': 313.530428, 'test_acc': 0.66, 'test_total': 200}}\n",
      "2022-09-06 20:31:13,319 (server:430)INFO: {'Role': 'Client #18', 'Round': 2, 'Results_raw': {'test_avg_loss': 1.625972, 'test_loss': 325.19447, 'test_acc': 0.61, 'test_total': 200}}\n",
      "2022-09-06 20:31:13,319 (server:430)INFO: {'Role': 'Client #19', 'Round': 2, 'Results_raw': {'test_avg_loss': 1.590829, 'test_loss': 318.165769, 'test_acc': 0.66, 'test_total': 200}}\n",
      "2022-09-06 20:31:13,320 (server:430)INFO: {'Role': 'Client #20', 'Round': 2, 'Results_raw': {'test_avg_loss': 1.625876, 'test_loss': 325.175159, 'test_acc': 0.675, 'test_total': 200}}\n",
      "2022-09-06 20:31:13,321 (server:430)INFO: {'Role': 'Client #21', 'Round': 2, 'Results_raw': {'test_avg_loss': 1.564828, 'test_loss': 312.965605, 'test_acc': 0.715, 'test_total': 200}}\n",
      "2022-09-06 20:31:13,321 (server:430)INFO: {'Role': 'Client #22', 'Round': 2, 'Results_raw': {'test_avg_loss': 1.647997, 'test_loss': 329.599341, 'test_acc': 0.62, 'test_total': 200}}\n",
      "2022-09-06 20:31:13,322 (server:430)INFO: {'Role': 'Client #23', 'Round': 2, 'Results_raw': {'test_avg_loss': 1.608781, 'test_loss': 321.756185, 'test_acc': 0.645, 'test_total': 200}}\n",
      "2022-09-06 20:31:13,322 (server:430)INFO: {'Role': 'Client #24', 'Round': 2, 'Results_raw': {'test_avg_loss': 1.52366, 'test_loss': 304.73205, 'test_acc': 0.735, 'test_total': 200}}\n",
      "2022-09-06 20:31:13,323 (server:430)INFO: {'Role': 'Client #25', 'Round': 2, 'Results_raw': {'test_avg_loss': 1.593172, 'test_loss': 318.634342, 'test_acc': 0.635, 'test_total': 200}}\n",
      "2022-09-06 20:31:13,323 (server:430)INFO: {'Role': 'Client #26', 'Round': 2, 'Results_raw': {'test_avg_loss': 1.419672, 'test_loss': 283.934401, 'test_acc': 0.735, 'test_total': 200}}\n",
      "2022-09-06 20:31:13,323 (server:430)INFO: {'Role': 'Client #27', 'Round': 2, 'Results_raw': {'test_avg_loss': 1.348377, 'test_loss': 269.675325, 'test_acc': 0.76, 'test_total': 200}}\n",
      "2022-09-06 20:31:13,324 (server:430)INFO: {'Role': 'Client #28', 'Round': 2, 'Results_raw': {'test_avg_loss': 1.409872, 'test_loss': 281.974435, 'test_acc': 0.71, 'test_total': 200}}\n",
      "2022-09-06 20:31:13,324 (server:430)INFO: {'Role': 'Client #29', 'Round': 2, 'Results_raw': {'test_avg_loss': 1.430423, 'test_loss': 286.084577, 'test_acc': 0.755, 'test_total': 200}}\n",
      "2022-09-06 20:31:13,325 (server:430)INFO: {'Role': 'Client #30', 'Round': 2, 'Results_raw': {'test_avg_loss': 1.546088, 'test_loss': 309.21759, 'test_acc': 0.665, 'test_total': 200}}\n",
      "2022-09-06 20:31:13,325 (server:430)INFO: {'Role': 'Client #31', 'Round': 2, 'Results_raw': {'test_avg_loss': 1.461818, 'test_loss': 292.363657, 'test_acc': 0.68, 'test_total': 200}}\n",
      "2022-09-06 20:31:13,326 (server:430)INFO: {'Role': 'Client #32', 'Round': 2, 'Results_raw': {'test_avg_loss': 1.294697, 'test_loss': 258.939436, 'test_acc': 0.785, 'test_total': 200}}\n",
      "2022-09-06 20:31:13,327 (server:430)INFO: {'Role': 'Client #33', 'Round': 2, 'Results_raw': {'test_avg_loss': 1.487355, 'test_loss': 297.471074, 'test_acc': 0.76, 'test_total': 200}}\n",
      "2022-09-06 20:31:13,327 (server:430)INFO: {'Role': 'Client #34', 'Round': 2, 'Results_raw': {'test_avg_loss': 1.505088, 'test_loss': 301.017694, 'test_acc': 0.725, 'test_total': 200}}\n",
      "2022-09-06 20:31:13,328 (server:430)INFO: {'Role': 'Client #35', 'Round': 2, 'Results_raw': {'test_avg_loss': 1.493687, 'test_loss': 298.737341, 'test_acc': 0.63, 'test_total': 200}}\n",
      "2022-09-06 20:31:13,328 (server:430)INFO: {'Role': 'Client #36', 'Round': 2, 'Results_raw': {'test_avg_loss': 1.446034, 'test_loss': 289.206739, 'test_acc': 0.695, 'test_total': 200}}\n",
      "2022-09-06 20:31:13,329 (server:430)INFO: {'Role': 'Client #37', 'Round': 2, 'Results_raw': {'test_avg_loss': 1.469583, 'test_loss': 293.916578, 'test_acc': 0.68, 'test_total': 200}}\n",
      "2022-09-06 20:31:13,329 (server:430)INFO: {'Role': 'Client #38', 'Round': 2, 'Results_raw': {'test_avg_loss': 1.531299, 'test_loss': 306.259754, 'test_acc': 0.675, 'test_total': 200}}\n",
      "2022-09-06 20:31:13,329 (server:430)INFO: {'Role': 'Client #39', 'Round': 2, 'Results_raw': {'test_avg_loss': 1.40185, 'test_loss': 280.370034, 'test_acc': 0.76, 'test_total': 200}}\n",
      "2022-09-06 20:31:13,330 (server:430)INFO: {'Role': 'Client #40', 'Round': 2, 'Results_raw': {'test_avg_loss': 1.405768, 'test_loss': 281.153532, 'test_acc': 0.725, 'test_total': 200}}\n",
      "2022-09-06 20:31:13,330 (server:430)INFO: {'Role': 'Client #41', 'Round': 2, 'Results_raw': {'test_avg_loss': 1.427721, 'test_loss': 285.54429, 'test_acc': 0.73, 'test_total': 200}}\n",
      "2022-09-06 20:31:13,331 (server:430)INFO: {'Role': 'Client #42', 'Round': 2, 'Results_raw': {'test_avg_loss': 1.416307, 'test_loss': 283.261414, 'test_acc': 0.81, 'test_total': 200}}\n",
      "2022-09-06 20:31:13,332 (server:430)INFO: {'Role': 'Client #43', 'Round': 2, 'Results_raw': {'test_avg_loss': 1.406009, 'test_loss': 281.201701, 'test_acc': 0.765, 'test_total': 200}}\n",
      "2022-09-06 20:31:13,332 (server:430)INFO: {'Role': 'Client #44', 'Round': 2, 'Results_raw': {'test_avg_loss': 1.324659, 'test_loss': 264.931724, 'test_acc': 0.73, 'test_total': 200}}\n",
      "2022-09-06 20:31:13,333 (server:430)INFO: {'Role': 'Client #45', 'Round': 2, 'Results_raw': {'test_avg_loss': 1.304559, 'test_loss': 260.911774, 'test_acc': 0.83, 'test_total': 200}}\n",
      "2022-09-06 20:31:13,334 (server:430)INFO: {'Role': 'Client #46', 'Round': 2, 'Results_raw': {'test_avg_loss': 1.454207, 'test_loss': 290.841333, 'test_acc': 0.695, 'test_total': 200}}\n",
      "2022-09-06 20:31:13,334 (server:430)INFO: {'Role': 'Client #47', 'Round': 2, 'Results_raw': {'test_avg_loss': 1.435461, 'test_loss': 287.092256, 'test_acc': 0.74, 'test_total': 200}}\n",
      "2022-09-06 20:31:13,335 (server:430)INFO: {'Role': 'Client #48', 'Round': 2, 'Results_raw': {'test_avg_loss': 1.405319, 'test_loss': 281.063826, 'test_acc': 0.75, 'test_total': 200}}\n",
      "2022-09-06 20:31:13,335 (server:430)INFO: {'Role': 'Client #49', 'Round': 2, 'Results_raw': {'test_avg_loss': 1.595552, 'test_loss': 319.110397, 'test_acc': 0.65, 'test_total': 200}}\n",
      "2022-09-06 20:31:13,336 (server:430)INFO: {'Role': 'Client #50', 'Round': 2, 'Results_raw': {'test_avg_loss': 1.531144, 'test_loss': 306.228704, 'test_acc': 0.72, 'test_total': 200}}\n",
      "2022-09-06 20:31:13,336 (monitor:121)INFO: In worker #0, the system-related metrics are: {'id': 0, 'fl_end_time_minutes': 0.164133, 'total_model_size': 0, 'total_flops': 0, 'total_upload_bytes': 1016000, 'total_download_bytes': 524208, 'global_convergence_round': 0, 'local_convergence_round': 0, 'global_convergence_time_minutes': 0, 'local_convergence_time_minutes': 0}\n",
      "2022-09-06 20:31:13,337 (client:436)INFO: ================= client 1 received finish message =================\n",
      "2022-09-06 20:31:13,338 (monitor:121)INFO: In worker #1, the system-related metrics are: {'id': 1, 'fl_end_time_minutes': 0.162603, 'total_model_size': 0, 'total_flops': 0, 'total_upload_bytes': 10496, 'total_download_bytes': 20320, 'global_convergence_round': 0, 'local_convergence_round': 0, 'global_convergence_time_minutes': 0, 'local_convergence_time_minutes': 0}\n",
      "2022-09-06 20:31:13,339 (client:436)INFO: ================= client 2 received finish message =================\n",
      "2022-09-06 20:31:13,340 (monitor:121)INFO: In worker #2, the system-related metrics are: {'id': 2, 'fl_end_time_minutes': 0.16103, 'total_model_size': 0, 'total_flops': 0, 'total_upload_bytes': 10496, 'total_download_bytes': 20320, 'global_convergence_round': 0, 'local_convergence_round': 0, 'global_convergence_time_minutes': 0, 'local_convergence_time_minutes': 0}\n",
      "2022-09-06 20:31:13,341 (client:436)INFO: ================= client 3 received finish message =================\n",
      "2022-09-06 20:31:13,343 (monitor:121)INFO: In worker #3, the system-related metrics are: {'id': 3, 'fl_end_time_minutes': 0.159599, 'total_model_size': 0, 'total_flops': 0, 'total_upload_bytes': 10496, 'total_download_bytes': 20320, 'global_convergence_round': 0, 'local_convergence_round': 0, 'global_convergence_time_minutes': 0, 'local_convergence_time_minutes': 0}\n",
      "2022-09-06 20:31:13,343 (client:436)INFO: ================= client 4 received finish message =================\n",
      "2022-09-06 20:31:13,345 (monitor:121)INFO: In worker #4, the system-related metrics are: {'id': 4, 'fl_end_time_minutes': 0.157971, 'total_model_size': 0, 'total_flops': 0, 'total_upload_bytes': 10496, 'total_download_bytes': 20320, 'global_convergence_round': 0, 'local_convergence_round': 0, 'global_convergence_time_minutes': 0, 'local_convergence_time_minutes': 0}\n",
      "2022-09-06 20:31:13,346 (client:436)INFO: ================= client 5 received finish message =================\n",
      "2022-09-06 20:31:13,347 (monitor:121)INFO: In worker #5, the system-related metrics are: {'id': 5, 'fl_end_time_minutes': 0.156531, 'total_model_size': 0, 'total_flops': 0, 'total_upload_bytes': 10496, 'total_download_bytes': 20320, 'global_convergence_round': 0, 'local_convergence_round': 0, 'global_convergence_time_minutes': 0, 'local_convergence_time_minutes': 0}\n",
      "2022-09-06 20:31:13,348 (client:436)INFO: ================= client 6 received finish message =================\n",
      "2022-09-06 20:31:13,349 (monitor:121)INFO: In worker #6, the system-related metrics are: {'id': 6, 'fl_end_time_minutes': 0.155109, 'total_model_size': 0, 'total_flops': 0, 'total_upload_bytes': 10496, 'total_download_bytes': 20320, 'global_convergence_round': 0, 'local_convergence_round': 0, 'global_convergence_time_minutes': 0, 'local_convergence_time_minutes': 0}\n",
      "2022-09-06 20:31:13,350 (client:436)INFO: ================= client 7 received finish message =================\n",
      "2022-09-06 20:31:13,351 (monitor:121)INFO: In worker #7, the system-related metrics are: {'id': 7, 'fl_end_time_minutes': 0.15335, 'total_model_size': 0, 'total_flops': 0, 'total_upload_bytes': 10496, 'total_download_bytes': 20320, 'global_convergence_round': 0, 'local_convergence_round': 0, 'global_convergence_time_minutes': 0, 'local_convergence_time_minutes': 0}\n",
      "2022-09-06 20:31:13,352 (client:436)INFO: ================= client 8 received finish message =================\n",
      "2022-09-06 20:31:13,353 (monitor:121)INFO: In worker #8, the system-related metrics are: {'id': 8, 'fl_end_time_minutes': 0.151815, 'total_model_size': 0, 'total_flops': 0, 'total_upload_bytes': 10496, 'total_download_bytes': 20320, 'global_convergence_round': 0, 'local_convergence_round': 0, 'global_convergence_time_minutes': 0, 'local_convergence_time_minutes': 0}\n",
      "2022-09-06 20:31:13,353 (client:436)INFO: ================= client 9 received finish message =================\n",
      "2022-09-06 20:31:13,355 (monitor:121)INFO: In worker #9, the system-related metrics are: {'id': 9, 'fl_end_time_minutes': 0.150315, 'total_model_size': 0, 'total_flops': 0, 'total_upload_bytes': 10496, 'total_download_bytes': 20320, 'global_convergence_round': 0, 'local_convergence_round': 0, 'global_convergence_time_minutes': 0, 'local_convergence_time_minutes': 0}\n",
      "2022-09-06 20:31:13,355 (client:436)INFO: ================= client 10 received finish message =================\n",
      "2022-09-06 20:31:13,357 (monitor:121)INFO: In worker #10, the system-related metrics are: {'id': 10, 'fl_end_time_minutes': 0.148918, 'total_model_size': 0, 'total_flops': 0, 'total_upload_bytes': 10496, 'total_download_bytes': 20320, 'global_convergence_round': 0, 'local_convergence_round': 0, 'global_convergence_time_minutes': 0, 'local_convergence_time_minutes': 0}\n",
      "2022-09-06 20:31:13,358 (client:436)INFO: ================= client 11 received finish message =================\n",
      "2022-09-06 20:31:13,360 (monitor:121)INFO: In worker #11, the system-related metrics are: {'id': 11, 'fl_end_time_minutes': 0.147495, 'total_model_size': 0, 'total_flops': 0, 'total_upload_bytes': 10496, 'total_download_bytes': 20320, 'global_convergence_round': 0, 'local_convergence_round': 0, 'global_convergence_time_minutes': 0, 'local_convergence_time_minutes': 0}\n",
      "2022-09-06 20:31:13,360 (client:436)INFO: ================= client 12 received finish message =================\n",
      "2022-09-06 20:31:13,362 (monitor:121)INFO: In worker #12, the system-related metrics are: {'id': 12, 'fl_end_time_minutes': 0.145905, 'total_model_size': 0, 'total_flops': 0, 'total_upload_bytes': 10496, 'total_download_bytes': 20320, 'global_convergence_round': 0, 'local_convergence_round': 0, 'global_convergence_time_minutes': 0, 'local_convergence_time_minutes': 0}\n",
      "2022-09-06 20:31:13,362 (client:436)INFO: ================= client 13 received finish message =================\n",
      "2022-09-06 20:31:13,364 (monitor:121)INFO: In worker #13, the system-related metrics are: {'id': 13, 'fl_end_time_minutes': 0.144461, 'total_model_size': 0, 'total_flops': 0, 'total_upload_bytes': 10496, 'total_download_bytes': 20320, 'global_convergence_round': 0, 'local_convergence_round': 0, 'global_convergence_time_minutes': 0, 'local_convergence_time_minutes': 0}\n",
      "2022-09-06 20:31:13,364 (client:436)INFO: ================= client 14 received finish message =================\n",
      "2022-09-06 20:31:13,365 (monitor:121)INFO: In worker #14, the system-related metrics are: {'id': 14, 'fl_end_time_minutes': 0.14285, 'total_model_size': 0, 'total_flops': 0, 'total_upload_bytes': 10496, 'total_download_bytes': 20320, 'global_convergence_round': 0, 'local_convergence_round': 0, 'global_convergence_time_minutes': 0, 'local_convergence_time_minutes': 0}\n",
      "2022-09-06 20:31:13,366 (client:436)INFO: ================= client 15 received finish message =================\n",
      "2022-09-06 20:31:13,368 (monitor:121)INFO: In worker #15, the system-related metrics are: {'id': 15, 'fl_end_time_minutes': 0.141266, 'total_model_size': 0, 'total_flops': 0, 'total_upload_bytes': 10496, 'total_download_bytes': 20320, 'global_convergence_round': 0, 'local_convergence_round': 0, 'global_convergence_time_minutes': 0, 'local_convergence_time_minutes': 0}\n",
      "2022-09-06 20:31:13,368 (client:436)INFO: ================= client 16 received finish message =================\n",
      "2022-09-06 20:31:13,369 (monitor:121)INFO: In worker #16, the system-related metrics are: {'id': 16, 'fl_end_time_minutes': 0.139765, 'total_model_size': 0, 'total_flops': 0, 'total_upload_bytes': 10496, 'total_download_bytes': 20320, 'global_convergence_round': 0, 'local_convergence_round': 0, 'global_convergence_time_minutes': 0, 'local_convergence_time_minutes': 0}\n",
      "2022-09-06 20:31:13,370 (client:436)INFO: ================= client 17 received finish message =================\n",
      "2022-09-06 20:31:13,371 (monitor:121)INFO: In worker #17, the system-related metrics are: {'id': 17, 'fl_end_time_minutes': 0.138254, 'total_model_size': 0, 'total_flops': 0, 'total_upload_bytes': 10496, 'total_download_bytes': 20320, 'global_convergence_round': 0, 'local_convergence_round': 0, 'global_convergence_time_minutes': 0, 'local_convergence_time_minutes': 0}\n",
      "2022-09-06 20:31:13,372 (client:436)INFO: ================= client 18 received finish message =================\n",
      "2022-09-06 20:31:13,373 (monitor:121)INFO: In worker #18, the system-related metrics are: {'id': 18, 'fl_end_time_minutes': 0.136834, 'total_model_size': 0, 'total_flops': 0, 'total_upload_bytes': 10496, 'total_download_bytes': 20320, 'global_convergence_round': 0, 'local_convergence_round': 0, 'global_convergence_time_minutes': 0, 'local_convergence_time_minutes': 0}\n",
      "2022-09-06 20:31:13,374 (client:436)INFO: ================= client 19 received finish message =================\n",
      "2022-09-06 20:31:13,375 (monitor:121)INFO: In worker #19, the system-related metrics are: {'id': 19, 'fl_end_time_minutes': 0.135188, 'total_model_size': 0, 'total_flops': 0, 'total_upload_bytes': 10496, 'total_download_bytes': 20320, 'global_convergence_round': 0, 'local_convergence_round': 0, 'global_convergence_time_minutes': 0, 'local_convergence_time_minutes': 0}\n",
      "2022-09-06 20:31:13,376 (client:436)INFO: ================= client 20 received finish message =================\n",
      "2022-09-06 20:31:13,377 (monitor:121)INFO: In worker #20, the system-related metrics are: {'id': 20, 'fl_end_time_minutes': 0.133532, 'total_model_size': 0, 'total_flops': 0, 'total_upload_bytes': 10496, 'total_download_bytes': 20320, 'global_convergence_round': 0, 'local_convergence_round': 0, 'global_convergence_time_minutes': 0, 'local_convergence_time_minutes': 0}\n",
      "2022-09-06 20:31:13,378 (client:436)INFO: ================= client 21 received finish message =================\n",
      "2022-09-06 20:31:13,380 (monitor:121)INFO: In worker #21, the system-related metrics are: {'id': 21, 'fl_end_time_minutes': 0.131961, 'total_model_size': 0, 'total_flops': 0, 'total_upload_bytes': 10496, 'total_download_bytes': 20320, 'global_convergence_round': 0, 'local_convergence_round': 0, 'global_convergence_time_minutes': 0, 'local_convergence_time_minutes': 0}\n",
      "2022-09-06 20:31:13,381 (client:436)INFO: ================= client 22 received finish message =================\n",
      "2022-09-06 20:31:13,382 (monitor:121)INFO: In worker #22, the system-related metrics are: {'id': 22, 'fl_end_time_minutes': 0.130446, 'total_model_size': 0, 'total_flops': 0, 'total_upload_bytes': 10496, 'total_download_bytes': 20320, 'global_convergence_round': 0, 'local_convergence_round': 0, 'global_convergence_time_minutes': 0, 'local_convergence_time_minutes': 0}\n",
      "2022-09-06 20:31:13,383 (client:436)INFO: ================= client 23 received finish message =================\n",
      "2022-09-06 20:31:13,385 (monitor:121)INFO: In worker #23, the system-related metrics are: {'id': 23, 'fl_end_time_minutes': 0.128985, 'total_model_size': 0, 'total_flops': 0, 'total_upload_bytes': 10496, 'total_download_bytes': 20320, 'global_convergence_round': 0, 'local_convergence_round': 0, 'global_convergence_time_minutes': 0, 'local_convergence_time_minutes': 0}\n",
      "2022-09-06 20:31:13,385 (client:436)INFO: ================= client 24 received finish message =================\n",
      "2022-09-06 20:31:13,387 (monitor:121)INFO: In worker #24, the system-related metrics are: {'id': 24, 'fl_end_time_minutes': 0.127537, 'total_model_size': 0, 'total_flops': 0, 'total_upload_bytes': 10496, 'total_download_bytes': 20320, 'global_convergence_round': 0, 'local_convergence_round': 0, 'global_convergence_time_minutes': 0, 'local_convergence_time_minutes': 0}\n",
      "2022-09-06 20:31:13,388 (client:436)INFO: ================= client 25 received finish message =================\n",
      "2022-09-06 20:31:13,389 (monitor:121)INFO: In worker #25, the system-related metrics are: {'id': 25, 'fl_end_time_minutes': 0.126073, 'total_model_size': 0, 'total_flops': 0, 'total_upload_bytes': 10496, 'total_download_bytes': 20320, 'global_convergence_round': 0, 'local_convergence_round': 0, 'global_convergence_time_minutes': 0, 'local_convergence_time_minutes': 0}\n",
      "2022-09-06 20:31:13,390 (client:436)INFO: ================= client 26 received finish message =================\n",
      "2022-09-06 20:31:13,391 (monitor:121)INFO: In worker #26, the system-related metrics are: {'id': 26, 'fl_end_time_minutes': 0.124578, 'total_model_size': 0, 'total_flops': 0, 'total_upload_bytes': 10496, 'total_download_bytes': 20320, 'global_convergence_round': 0, 'local_convergence_round': 0, 'global_convergence_time_minutes': 0, 'local_convergence_time_minutes': 0}\n",
      "2022-09-06 20:31:13,392 (client:436)INFO: ================= client 27 received finish message =================\n",
      "2022-09-06 20:31:13,394 (monitor:121)INFO: In worker #27, the system-related metrics are: {'id': 27, 'fl_end_time_minutes': 0.123024, 'total_model_size': 0, 'total_flops': 0, 'total_upload_bytes': 10496, 'total_download_bytes': 20320, 'global_convergence_round': 0, 'local_convergence_round': 0, 'global_convergence_time_minutes': 0, 'local_convergence_time_minutes': 0}\n",
      "2022-09-06 20:31:13,394 (client:436)INFO: ================= client 28 received finish message =================\n",
      "2022-09-06 20:31:13,396 (monitor:121)INFO: In worker #28, the system-related metrics are: {'id': 28, 'fl_end_time_minutes': 0.121442, 'total_model_size': 0, 'total_flops': 0, 'total_upload_bytes': 10496, 'total_download_bytes': 20320, 'global_convergence_round': 0, 'local_convergence_round': 0, 'global_convergence_time_minutes': 0, 'local_convergence_time_minutes': 0}\n",
      "2022-09-06 20:31:13,396 (client:436)INFO: ================= client 29 received finish message =================\n",
      "2022-09-06 20:31:13,398 (monitor:121)INFO: In worker #29, the system-related metrics are: {'id': 29, 'fl_end_time_minutes': 0.119876, 'total_model_size': 0, 'total_flops': 0, 'total_upload_bytes': 10496, 'total_download_bytes': 20320, 'global_convergence_round': 0, 'local_convergence_round': 0, 'global_convergence_time_minutes': 0, 'local_convergence_time_minutes': 0}\n",
      "2022-09-06 20:31:13,399 (client:436)INFO: ================= client 30 received finish message =================\n",
      "2022-09-06 20:31:13,401 (monitor:121)INFO: In worker #30, the system-related metrics are: {'id': 30, 'fl_end_time_minutes': 0.118326, 'total_model_size': 0, 'total_flops': 0, 'total_upload_bytes': 10496, 'total_download_bytes': 20320, 'global_convergence_round': 0, 'local_convergence_round': 0, 'global_convergence_time_minutes': 0, 'local_convergence_time_minutes': 0}\n",
      "2022-09-06 20:31:13,401 (client:436)INFO: ================= client 31 received finish message =================\n",
      "2022-09-06 20:31:13,403 (monitor:121)INFO: In worker #31, the system-related metrics are: {'id': 31, 'fl_end_time_minutes': 0.116879, 'total_model_size': 0, 'total_flops': 0, 'total_upload_bytes': 10496, 'total_download_bytes': 20320, 'global_convergence_round': 0, 'local_convergence_round': 0, 'global_convergence_time_minutes': 0, 'local_convergence_time_minutes': 0}\n",
      "2022-09-06 20:31:13,404 (client:436)INFO: ================= client 32 received finish message =================\n",
      "2022-09-06 20:31:13,405 (monitor:121)INFO: In worker #32, the system-related metrics are: {'id': 32, 'fl_end_time_minutes': 0.115396, 'total_model_size': 0, 'total_flops': 0, 'total_upload_bytes': 10496, 'total_download_bytes': 20320, 'global_convergence_round': 0, 'local_convergence_round': 0, 'global_convergence_time_minutes': 0, 'local_convergence_time_minutes': 0}\n",
      "2022-09-06 20:31:13,406 (client:436)INFO: ================= client 33 received finish message =================\n",
      "2022-09-06 20:31:13,407 (monitor:121)INFO: In worker #33, the system-related metrics are: {'id': 33, 'fl_end_time_minutes': 0.113962, 'total_model_size': 0, 'total_flops': 0, 'total_upload_bytes': 10496, 'total_download_bytes': 20320, 'global_convergence_round': 0, 'local_convergence_round': 0, 'global_convergence_time_minutes': 0, 'local_convergence_time_minutes': 0}\n",
      "2022-09-06 20:31:13,407 (client:436)INFO: ================= client 34 received finish message =================\n",
      "2022-09-06 20:31:13,409 (monitor:121)INFO: In worker #34, the system-related metrics are: {'id': 34, 'fl_end_time_minutes': 0.112415, 'total_model_size': 0, 'total_flops': 0, 'total_upload_bytes': 10496, 'total_download_bytes': 20320, 'global_convergence_round': 0, 'local_convergence_round': 0, 'global_convergence_time_minutes': 0, 'local_convergence_time_minutes': 0}\n",
      "2022-09-06 20:31:13,409 (client:436)INFO: ================= client 35 received finish message =================\n",
      "2022-09-06 20:31:13,411 (monitor:121)INFO: In worker #35, the system-related metrics are: {'id': 35, 'fl_end_time_minutes': 0.110954, 'total_model_size': 0, 'total_flops': 0, 'total_upload_bytes': 10496, 'total_download_bytes': 20320, 'global_convergence_round': 0, 'local_convergence_round': 0, 'global_convergence_time_minutes': 0, 'local_convergence_time_minutes': 0}\n",
      "2022-09-06 20:31:13,412 (client:436)INFO: ================= client 36 received finish message =================\n",
      "2022-09-06 20:31:13,414 (monitor:121)INFO: In worker #36, the system-related metrics are: {'id': 36, 'fl_end_time_minutes': 0.109545, 'total_model_size': 0, 'total_flops': 0, 'total_upload_bytes': 10496, 'total_download_bytes': 20320, 'global_convergence_round': 0, 'local_convergence_round': 0, 'global_convergence_time_minutes': 0, 'local_convergence_time_minutes': 0}\n",
      "2022-09-06 20:31:13,415 (client:436)INFO: ================= client 37 received finish message =================\n",
      "2022-09-06 20:31:13,416 (monitor:121)INFO: In worker #37, the system-related metrics are: {'id': 37, 'fl_end_time_minutes': 0.108033, 'total_model_size': 0, 'total_flops': 0, 'total_upload_bytes': 10496, 'total_download_bytes': 20320, 'global_convergence_round': 0, 'local_convergence_round': 0, 'global_convergence_time_minutes': 0, 'local_convergence_time_minutes': 0}\n",
      "2022-09-06 20:31:13,417 (client:436)INFO: ================= client 38 received finish message =================\n",
      "2022-09-06 20:31:13,418 (monitor:121)INFO: In worker #38, the system-related metrics are: {'id': 38, 'fl_end_time_minutes': 0.106551, 'total_model_size': 0, 'total_flops': 0, 'total_upload_bytes': 10496, 'total_download_bytes': 20320, 'global_convergence_round': 0, 'local_convergence_round': 0, 'global_convergence_time_minutes': 0, 'local_convergence_time_minutes': 0}\n",
      "2022-09-06 20:31:13,419 (client:436)INFO: ================= client 39 received finish message =================\n",
      "2022-09-06 20:31:13,421 (monitor:121)INFO: In worker #39, the system-related metrics are: {'id': 39, 'fl_end_time_minutes': 0.105118, 'total_model_size': 0, 'total_flops': 0, 'total_upload_bytes': 10496, 'total_download_bytes': 20320, 'global_convergence_round': 0, 'local_convergence_round': 0, 'global_convergence_time_minutes': 0, 'local_convergence_time_minutes': 0}\n",
      "2022-09-06 20:31:13,421 (client:436)INFO: ================= client 40 received finish message =================\n",
      "2022-09-06 20:31:13,423 (monitor:121)INFO: In worker #40, the system-related metrics are: {'id': 40, 'fl_end_time_minutes': 0.103702, 'total_model_size': 0, 'total_flops': 0, 'total_upload_bytes': 10496, 'total_download_bytes': 20320, 'global_convergence_round': 0, 'local_convergence_round': 0, 'global_convergence_time_minutes': 0, 'local_convergence_time_minutes': 0}\n",
      "2022-09-06 20:31:13,423 (client:436)INFO: ================= client 41 received finish message =================\n",
      "2022-09-06 20:31:13,425 (monitor:121)INFO: In worker #41, the system-related metrics are: {'id': 41, 'fl_end_time_minutes': 0.102253, 'total_model_size': 0, 'total_flops': 0, 'total_upload_bytes': 10496, 'total_download_bytes': 20320, 'global_convergence_round': 0, 'local_convergence_round': 0, 'global_convergence_time_minutes': 0, 'local_convergence_time_minutes': 0}\n",
      "2022-09-06 20:31:13,425 (client:436)INFO: ================= client 42 received finish message =================\n",
      "2022-09-06 20:31:13,427 (monitor:121)INFO: In worker #42, the system-related metrics are: {'id': 42, 'fl_end_time_minutes': 0.100802, 'total_model_size': 0, 'total_flops': 0, 'total_upload_bytes': 10496, 'total_download_bytes': 20320, 'global_convergence_round': 0, 'local_convergence_round': 0, 'global_convergence_time_minutes': 0, 'local_convergence_time_minutes': 0}\n",
      "2022-09-06 20:31:13,428 (client:436)INFO: ================= client 43 received finish message =================\n",
      "2022-09-06 20:31:13,429 (monitor:121)INFO: In worker #43, the system-related metrics are: {'id': 43, 'fl_end_time_minutes': 0.099315, 'total_model_size': 0, 'total_flops': 0, 'total_upload_bytes': 10496, 'total_download_bytes': 20320, 'global_convergence_round': 0, 'local_convergence_round': 0, 'global_convergence_time_minutes': 0, 'local_convergence_time_minutes': 0}\n",
      "2022-09-06 20:31:13,430 (client:436)INFO: ================= client 44 received finish message =================\n",
      "2022-09-06 20:31:13,432 (monitor:121)INFO: In worker #44, the system-related metrics are: {'id': 44, 'fl_end_time_minutes': 0.09778, 'total_model_size': 0, 'total_flops': 0, 'total_upload_bytes': 10496, 'total_download_bytes': 20320, 'global_convergence_round': 0, 'local_convergence_round': 0, 'global_convergence_time_minutes': 0, 'local_convergence_time_minutes': 0}\n",
      "2022-09-06 20:31:13,432 (client:436)INFO: ================= client 45 received finish message =================\n",
      "2022-09-06 20:31:13,434 (monitor:121)INFO: In worker #45, the system-related metrics are: {'id': 45, 'fl_end_time_minutes': 0.096222, 'total_model_size': 0, 'total_flops': 0, 'total_upload_bytes': 10496, 'total_download_bytes': 20320, 'global_convergence_round': 0, 'local_convergence_round': 0, 'global_convergence_time_minutes': 0, 'local_convergence_time_minutes': 0}\n",
      "2022-09-06 20:31:13,434 (client:436)INFO: ================= client 46 received finish message =================\n",
      "2022-09-06 20:31:13,436 (monitor:121)INFO: In worker #46, the system-related metrics are: {'id': 46, 'fl_end_time_minutes': 0.094716, 'total_model_size': 0, 'total_flops': 0, 'total_upload_bytes': 10496, 'total_download_bytes': 20320, 'global_convergence_round': 0, 'local_convergence_round': 0, 'global_convergence_time_minutes': 0, 'local_convergence_time_minutes': 0}\n",
      "2022-09-06 20:31:13,436 (client:436)INFO: ================= client 47 received finish message =================\n",
      "2022-09-06 20:31:13,438 (monitor:121)INFO: In worker #47, the system-related metrics are: {'id': 47, 'fl_end_time_minutes': 0.093258, 'total_model_size': 0, 'total_flops': 0, 'total_upload_bytes': 10496, 'total_download_bytes': 20320, 'global_convergence_round': 0, 'local_convergence_round': 0, 'global_convergence_time_minutes': 0, 'local_convergence_time_minutes': 0}\n",
      "2022-09-06 20:31:13,438 (client:436)INFO: ================= client 48 received finish message =================\n",
      "2022-09-06 20:31:13,440 (monitor:121)INFO: In worker #48, the system-related metrics are: {'id': 48, 'fl_end_time_minutes': 0.091642, 'total_model_size': 0, 'total_flops': 0, 'total_upload_bytes': 10496, 'total_download_bytes': 20320, 'global_convergence_round': 0, 'local_convergence_round': 0, 'global_convergence_time_minutes': 0, 'local_convergence_time_minutes': 0}\n",
      "2022-09-06 20:31:13,440 (client:436)INFO: ================= client 49 received finish message =================\n",
      "2022-09-06 20:31:13,442 (monitor:121)INFO: In worker #49, the system-related metrics are: {'id': 49, 'fl_end_time_minutes': 0.089996, 'total_model_size': 0, 'total_flops': 0, 'total_upload_bytes': 10496, 'total_download_bytes': 20320, 'global_convergence_round': 0, 'local_convergence_round': 0, 'global_convergence_time_minutes': 0, 'local_convergence_time_minutes': 0}\n",
      "2022-09-06 20:31:13,442 (client:436)INFO: ================= client 50 received finish message =================\n",
      "2022-09-06 20:31:13,444 (monitor:121)INFO: In worker #50, the system-related metrics are: {'id': 50, 'fl_end_time_minutes': 0.088362, 'total_model_size': 0, 'total_flops': 0, 'total_upload_bytes': 10496, 'total_download_bytes': 20320, 'global_convergence_round': 0, 'local_convergence_round': 0, 'global_convergence_time_minutes': 0, 'local_convergence_time_minutes': 0}\n",
      "2022-09-06 20:31:13,445 (monitor:278)INFO: We will compress the file eval_results.raw into a .gz file, and delete the old one\n",
      "2022-09-06 20:31:13,447 (monitor:195)INFO: After merging the system metrics from all works, we got avg: defaultdict(None, {'id': 'sys_avg', 'sys_avg/fl_end_time_minutes': 0.126198, 'sys_avg/total_model_size': '0.0', 'sys_avg/total_flops': '0.0', 'sys_avg/total_upload_bytes': '29.5K', 'sys_avg/total_download_bytes': '29.49K', 'sys_avg/global_convergence_round': 0.0, 'sys_avg/local_convergence_round': 0.0, 'sys_avg/global_convergence_time_minutes': 0.0, 'sys_avg/local_convergence_time_minutes': 0.0})\n",
      "2022-09-06 20:31:13,447 (monitor:198)INFO: After merging the system metrics from all works, we got std: defaultdict(None, {'id': 'sys_std', 'sys_std/fl_end_time_minutes': 0.022222, 'sys_std/total_model_size': '0.0', 'sys_std/total_flops': '0.0', 'sys_std/total_upload_bytes': '136.14K', 'sys_std/total_download_bytes': '68.23K', 'sys_std/global_convergence_round': 0.0, 'sys_std/local_convergence_round': 0.0, 'sys_std/global_convergence_time_minutes': 0.0, 'sys_std/local_convergence_time_minutes': 0.0})\n"
     ]
    },
    {
     "data": {
      "text/plain": "{'client_best_individual': {'test_loss': 258.9394359588623,\n  'test_avg_loss': 1.2946971797943114,\n  'test_acc': 0.6,\n  'test_total': 200.0},\n 'client_summarized_weighted_avg': {'test_loss': 303.09110340118406,\n  'test_avg_loss': 1.5154555170059205,\n  'test_acc': 0.6951,\n  'test_total': 200.0},\n 'client_summarized_avg': {'test_loss': 303.09110340118406,\n  'test_avg_loss': 1.5154555170059203,\n  'test_acc': 0.6950999999999999,\n  'test_total': 200.0},\n 'client_summarized_fairness': {'test_loss_top_decile': 325.0300188064575,\n  'test_loss_bottom_decile': 281.0638256072998,\n  'test_loss_std': 19.221526965696587,\n  'test_total': 200.0,\n  'test_avg_loss_std': 0.0961076348284829,\n  'test_avg_loss_bottom_decile': 1.405319128036499,\n  'test_avg_loss_top_decile': 1.6251500940322876,\n  'test_acc_std': 0.052311471017359085,\n  'test_acc_bottom_decile': 0.63,\n  'test_acc_top_decile': 0.76}}"
     },
     "execution_count": 13,
     "metadata": {},
     "output_type": "execute_result"
    }
   ],
   "source": [
    "Fed_runner = FedRunner(data=data,\n",
    "                       server_class=LaplacianServer,\n",
    "                       client_class=LaplacianClient,\n",
    "                       config=cfg.clone())\n",
    "Fed_runner.run()"
   ],
   "metadata": {
    "collapsed": false,
    "pycharm": {
     "name": "#%%\n"
    }
   }
  },
  {
   "cell_type": "code",
   "execution_count": 14,
   "outputs": [
    {
     "data": {
      "text/plain": "{1: {'train': <torch.utils.data.dataloader.DataLoader at 0x7f1192df18b0>,\n  'test': <torch.utils.data.dataloader.DataLoader at 0x7f1192df16a0>},\n 2: {'train': <torch.utils.data.dataloader.DataLoader at 0x7f1192dee760>,\n  'test': <torch.utils.data.dataloader.DataLoader at 0x7f1192dee670>},\n 3: {'train': <torch.utils.data.dataloader.DataLoader at 0x7f1192dee5e0>,\n  'test': <torch.utils.data.dataloader.DataLoader at 0x7f1192dee2b0>},\n 4: {'train': <torch.utils.data.dataloader.DataLoader at 0x7f1192dee160>,\n  'test': <torch.utils.data.dataloader.DataLoader at 0x7f1192dee310>},\n 5: {'train': <torch.utils.data.dataloader.DataLoader at 0x7f1192decee0>,\n  'test': <torch.utils.data.dataloader.DataLoader at 0x7f1192dec970>},\n 6: {'train': <torch.utils.data.dataloader.DataLoader at 0x7f1192dec820>,\n  'test': <torch.utils.data.dataloader.DataLoader at 0x7f1192dec6a0>},\n 7: {'train': <torch.utils.data.dataloader.DataLoader at 0x7f1192dec460>,\n  'test': <torch.utils.data.dataloader.DataLoader at 0x7f1192dec1c0>},\n 8: {'train': <torch.utils.data.dataloader.DataLoader at 0x7f1192deca00>,\n  'test': <torch.utils.data.dataloader.DataLoader at 0x7f1192de9d60>},\n 9: {'train': <torch.utils.data.dataloader.DataLoader at 0x7f1192de9bb0>,\n  'test': <torch.utils.data.dataloader.DataLoader at 0x7f1192e28970>},\n 10: {'train': <torch.utils.data.dataloader.DataLoader at 0x7f1192dcad60>,\n  'test': <torch.utils.data.dataloader.DataLoader at 0x7f1192de9eb0>},\n 11: {'train': <torch.utils.data.dataloader.DataLoader at 0x7f1192dfb580>,\n  'test': <torch.utils.data.dataloader.DataLoader at 0x7f1192dfb670>},\n 12: {'train': <torch.utils.data.dataloader.DataLoader at 0x7f1192dfb760>,\n  'test': <torch.utils.data.dataloader.DataLoader at 0x7f1192dfb850>},\n 13: {'train': <torch.utils.data.dataloader.DataLoader at 0x7f1192dfb940>,\n  'test': <torch.utils.data.dataloader.DataLoader at 0x7f1192dfba30>},\n 14: {'train': <torch.utils.data.dataloader.DataLoader at 0x7f1192dfbb20>,\n  'test': <torch.utils.data.dataloader.DataLoader at 0x7f1192dfbc10>},\n 15: {'train': <torch.utils.data.dataloader.DataLoader at 0x7f1192dfbd00>,\n  'test': <torch.utils.data.dataloader.DataLoader at 0x7f1192dfbdf0>},\n 16: {'train': <torch.utils.data.dataloader.DataLoader at 0x7f1192dfbee0>,\n  'test': <torch.utils.data.dataloader.DataLoader at 0x7f1192dfbfd0>},\n 17: {'train': <torch.utils.data.dataloader.DataLoader at 0x7f1192dfb490>,\n  'test': <torch.utils.data.dataloader.DataLoader at 0x7f11905741f0>},\n 18: {'train': <torch.utils.data.dataloader.DataLoader at 0x7f11905742e0>,\n  'test': <torch.utils.data.dataloader.DataLoader at 0x7f11905743d0>},\n 19: {'train': <torch.utils.data.dataloader.DataLoader at 0x7f11905744c0>,\n  'test': <torch.utils.data.dataloader.DataLoader at 0x7f11905745b0>},\n 20: {'train': <torch.utils.data.dataloader.DataLoader at 0x7f11905746a0>,\n  'test': <torch.utils.data.dataloader.DataLoader at 0x7f1190574790>},\n 21: {'train': <torch.utils.data.dataloader.DataLoader at 0x7f1190574880>,\n  'test': <torch.utils.data.dataloader.DataLoader at 0x7f1190574970>},\n 22: {'train': <torch.utils.data.dataloader.DataLoader at 0x7f1190574a60>,\n  'test': <torch.utils.data.dataloader.DataLoader at 0x7f1190574b50>},\n 23: {'train': <torch.utils.data.dataloader.DataLoader at 0x7f1190574c40>,\n  'test': <torch.utils.data.dataloader.DataLoader at 0x7f1190574d30>},\n 24: {'train': <torch.utils.data.dataloader.DataLoader at 0x7f1190574e20>,\n  'test': <torch.utils.data.dataloader.DataLoader at 0x7f1190574f10>},\n 25: {'train': <torch.utils.data.dataloader.DataLoader at 0x7f1190574100>,\n  'test': <torch.utils.data.dataloader.DataLoader at 0x7f119051d130>},\n 26: {'train': <torch.utils.data.dataloader.DataLoader at 0x7f119051d220>,\n  'test': <torch.utils.data.dataloader.DataLoader at 0x7f119051d310>},\n 27: {'train': <torch.utils.data.dataloader.DataLoader at 0x7f119051d400>,\n  'test': <torch.utils.data.dataloader.DataLoader at 0x7f119051d4f0>},\n 28: {'train': <torch.utils.data.dataloader.DataLoader at 0x7f119051d5e0>,\n  'test': <torch.utils.data.dataloader.DataLoader at 0x7f119051d6d0>},\n 29: {'train': <torch.utils.data.dataloader.DataLoader at 0x7f119051d7c0>,\n  'test': <torch.utils.data.dataloader.DataLoader at 0x7f119051d8b0>},\n 30: {'train': <torch.utils.data.dataloader.DataLoader at 0x7f119051d9a0>,\n  'test': <torch.utils.data.dataloader.DataLoader at 0x7f119051da90>},\n 31: {'train': <torch.utils.data.dataloader.DataLoader at 0x7f119051db80>,\n  'test': <torch.utils.data.dataloader.DataLoader at 0x7f119051dc70>},\n 32: {'train': <torch.utils.data.dataloader.DataLoader at 0x7f119051dd60>,\n  'test': <torch.utils.data.dataloader.DataLoader at 0x7f119051de50>},\n 33: {'train': <torch.utils.data.dataloader.DataLoader at 0x7f119051df40>,\n  'test': <torch.utils.data.dataloader.DataLoader at 0x7f119051d040>},\n 34: {'train': <torch.utils.data.dataloader.DataLoader at 0x7f1190491160>,\n  'test': <torch.utils.data.dataloader.DataLoader at 0x7f1190491250>},\n 35: {'train': <torch.utils.data.dataloader.DataLoader at 0x7f1190491340>,\n  'test': <torch.utils.data.dataloader.DataLoader at 0x7f1190491430>},\n 36: {'train': <torch.utils.data.dataloader.DataLoader at 0x7f1190491520>,\n  'test': <torch.utils.data.dataloader.DataLoader at 0x7f1190491610>},\n 37: {'train': <torch.utils.data.dataloader.DataLoader at 0x7f1190491700>,\n  'test': <torch.utils.data.dataloader.DataLoader at 0x7f11904917f0>},\n 38: {'train': <torch.utils.data.dataloader.DataLoader at 0x7f11904918e0>,\n  'test': <torch.utils.data.dataloader.DataLoader at 0x7f11904919d0>},\n 39: {'train': <torch.utils.data.dataloader.DataLoader at 0x7f1190491ac0>,\n  'test': <torch.utils.data.dataloader.DataLoader at 0x7f1190491bb0>},\n 40: {'train': <torch.utils.data.dataloader.DataLoader at 0x7f1190491ca0>,\n  'test': <torch.utils.data.dataloader.DataLoader at 0x7f1190491d90>},\n 41: {'train': <torch.utils.data.dataloader.DataLoader at 0x7f1190491e80>,\n  'test': <torch.utils.data.dataloader.DataLoader at 0x7f1190491f70>},\n 42: {'train': <torch.utils.data.dataloader.DataLoader at 0x7f1190491070>,\n  'test': <torch.utils.data.dataloader.DataLoader at 0x7f119045c190>},\n 43: {'train': <torch.utils.data.dataloader.DataLoader at 0x7f119045c280>,\n  'test': <torch.utils.data.dataloader.DataLoader at 0x7f119045c370>},\n 44: {'train': <torch.utils.data.dataloader.DataLoader at 0x7f119045c460>,\n  'test': <torch.utils.data.dataloader.DataLoader at 0x7f119045c550>},\n 45: {'train': <torch.utils.data.dataloader.DataLoader at 0x7f119045c640>,\n  'test': <torch.utils.data.dataloader.DataLoader at 0x7f119045c730>},\n 46: {'train': <torch.utils.data.dataloader.DataLoader at 0x7f119045c820>,\n  'test': <torch.utils.data.dataloader.DataLoader at 0x7f119045c910>},\n 47: {'train': <torch.utils.data.dataloader.DataLoader at 0x7f119045ca00>,\n  'test': <torch.utils.data.dataloader.DataLoader at 0x7f119045caf0>},\n 48: {'train': <torch.utils.data.dataloader.DataLoader at 0x7f119045cbe0>,\n  'test': <torch.utils.data.dataloader.DataLoader at 0x7f119045ccd0>},\n 49: {'train': <torch.utils.data.dataloader.DataLoader at 0x7f119045cdc0>,\n  'test': <torch.utils.data.dataloader.DataLoader at 0x7f119045ceb0>},\n 50: {'train': <torch.utils.data.dataloader.DataLoader at 0x7f119045cfa0>,\n  'test': <torch.utils.data.dataloader.DataLoader at 0x7f119045c0a0>}}"
     },
     "execution_count": 14,
     "metadata": {},
     "output_type": "execute_result"
    }
   ],
   "source": [
    "data"
   ],
   "metadata": {
    "collapsed": false,
    "pycharm": {
     "name": "#%%\n"
    }
   }
  },
  {
   "cell_type": "code",
   "execution_count": 15,
   "outputs": [
    {
     "data": {
      "text/plain": "CN({'backend': 'torch', 'use_gpu': True, 'verbose': 1, 'print_decimal_digits': 6, 'device': -1, 'seed': 123, 'cfg_file': '', 'outdir': 'exp/FedAvg_mynet2_on_mydata_lr0.1_lstep5_/sub_exp_20220906195741/FedAvg_mynet2_on_mydata_lr0.1_lstep5__', 'expname': 'FedAvg_mynet2_on_mydata_lr0.1_lstep5__', 'expname_tag': '', 'hpo': CN({'working_folder': 'hpo', 'ss': '', 'num_workers': 0, 'init_cand_num': 16, 'log_scale': False, 'larger_better': False, 'scheduler': 'rs', 'plot_interval': 1, 'metric': 'client_summarized_weighted_avg.val_loss', 'sha': CN({'elim_round_num': 3, 'elim_rate': 3, 'budgets': []}), 'pbt': CN({'max_stage': 5, 'perf_threshold': 0.1}), 'fedex': CN({'use': False, 'ss': '', 'flatten_ss': True, 'eta0': -1.0, 'sched': 'auto', 'cutoff': 0.0, 'gamma': 0.0, 'num_arms': 16, 'diff': False}), 'table': CN({'ss': '', 'eps': 0.1, 'num': 27, 'idx': 0})}), 'data': CN({'root': 'data', 'type': 'mydata', 'args': [], 'splitter': '', 'splitter_args': [], 'transform': [['ToTensor'], ['Normalize', {'mean': [0.1307], 'std': [0.3081]}]], 'target_transform': [], 'pre_transform': [], 'batch_size': 64, 'drop_last': False, 'sizes': [10, 5], 'shuffle': True, 'server_holds_all': False, 'subsample': 1.0, 'splits': [0.8, 0.1, 0.1], 'consistent_label_distribution': False, 'cSBM_phi': [0.5, 0.5, 0.5], 'loader': '', 'num_workers': 0, 'graphsaint': CN({'walk_length': 2, 'num_steps': 30}), 'quadratic': CN({'dim': 1, 'min_curv': 0.02, 'max_curv': 12.5})}), 'trainer': CN({'type': 'laplacian_trainer'}), 'train': CN({'local_update_steps': 5, 'batch_or_epoch': 'epoch', 'optimizer': CN({'type': 'SGD', 'lr': 0.1, 'weight_decay': 0.0})}), 'finetune': CN({'before_eval': False, 'local_update_steps': 1, 'batch_or_epoch': 'epoch', 'freeze_param': '', 'optimizer': CN({'type': 'SGD', 'lr': 0.1})}), 'grad': CN({'grad_clip': 5.0}), 'early_stop': CN({'patience': 5, 'delta': 0.0, 'improve_indicator_mode': 'best', 'the_smaller_the_better': True}), 'eval': CN({'save_data': False, 'freq': 1, 'metrics': ['acc'], 'split': ['test', 'val'], 'report': ['weighted_avg', 'avg', 'fairness', 'raw'], 'best_res_update_round_wise_key': 'test_loss', 'monitoring': [], 'count_flops': True, 'metric': ['mymetric']}), 'wandb': CN({'use': False, 'name_user': '', 'name_project': '', 'online_track': True, 'client_train_info': False}), 'model': CN({'model_num_per_trainer': 1, 'type': 'mynet2', 'use_bias': True, 'task': 'node', 'hidden': 256, 'dropout': 0.5, 'in_channels': 1, 'out_channels': 10, 'layer': 2, 'graph_pooling': 'mean', 'embed_size': 8, 'num_item': 0, 'num_user': 0}), 'criterion': CN({'type': 'CrossEntropyLoss'}), 'regularizer': CN({'type': '', 'mu': 0.0}), 'asyn': CN({'use': True, 'timeout': 0, 'min_received_num': 2, 'min_received_rate': -1.0}), 'nbafl': CN({'use': False, 'mu': 0.0, 'epsilon': 100.0, 'w_clip': 1.0, 'constant': 30.0}), 'sgdmf': CN({'use': False, 'R': 5.0, 'epsilon': 4.0, 'delta': 0.5, 'constant': 1.0, 'theta': -1}), 'federate': CN({'client_num': 50, 'sample_client_num': 50, 'sample_client_rate': -1.0, 'unseen_clients_rate': 0.0, 'total_round_num': 20, 'mode': 'standalone', 'share_local_model': False, 'data_weighted_aggr': False, 'online_aggr': False, 'make_global_eval': False, 'use_diff': False, 'method': 'FedAvg', 'ignore_weight': False, 'use_ss': False, 'restore_from': '', 'save_to': '', 'join_in_info': [], 'sampler': 'uniform', 'local_update_steps': 1}), 'distribute': CN({'use': False, 'server_host': '0.0.0.0', 'server_port': 50050, 'client_host': '0.0.0.0', 'client_port': 50050, 'role': 'client', 'data_file': 'data', 'data_idx': -1, 'grpc_max_send_message_length': 104857600, 'grpc_max_receive_message_length': 104857600, 'grpc_enable_http_proxy': False}), 'vertical': CN({'use': False, 'encryption': 'paillier', 'dims': [5, 10], 'key_size': 3072}), 'attack': CN({'attack_method': '', 'target_label_ind': -1, 'attacker_id': -1, 'reconstruct_lr': 0.01, 'reconstruct_optim': 'Adam', 'info_diff_type': 'l2', 'max_ite': 400, 'alpha_TV': 0.001, 'alpha_prop_loss': 0, 'classifier_PIA': 'randomforest', 'inject_round': 0}), 'fedopt': CN({'use': False, 'optimizer': CN({'type': 'SGD', 'lr': 0.01})}), 'fedprox': CN({'use': False, 'mu': 0.0}), 'personalization': CN({'local_param': [], 'share_non_trainable_para': False, 'local_update_steps': 5, 'regular_weight': 0.1, 'lr': 0.1, 'K': 5, 'beta': 1.0}), 'fedsageplus': CN({'num_pred': 5, 'gen_hidden': 128, 'hide_portion': 0.5, 'fedgen_epoch': 200, 'loc_epoch': 1, 'a': 1.0, 'b': 1.0, 'c': 1.0}), 'gcflplus': CN({'EPS_1': 0.05, 'EPS_2': 0.1, 'seq_length': 5, 'standardize': False}), 'flitplus': CN({'tmpFed': 0.5, 'lambdavat': 0.5, 'factor_ema': 0.8, 'weightReg': 1.0}), 'best_res_update_round_wise_key': 'test_loss', 'params': CN({'alpha': 0.01, 'csd_importance': 1, 'eps': 1e-05, 'p': 0.0})})"
     },
     "execution_count": 15,
     "metadata": {},
     "output_type": "execute_result"
    }
   ],
   "source": [
    "cfg"
   ],
   "metadata": {
    "collapsed": false,
    "pycharm": {
     "name": "#%%\n"
    }
   }
  },
  {
   "cell_type": "code",
   "execution_count": null,
   "outputs": [],
   "source": [
    "data"
   ],
   "metadata": {
    "collapsed": false,
    "pycharm": {
     "name": "#%%\n"
    }
   }
  },
  {
   "cell_type": "code",
   "execution_count": null,
   "outputs": [],
   "source": [
    "from federatedscope.contrib.model.mnist_model import MyNet\n",
    "\n",
    "model = MyNet(0)"
   ],
   "metadata": {
    "collapsed": false,
    "pycharm": {
     "name": "#%%\n"
    }
   }
  },
  {
   "cell_type": "code",
   "execution_count": null,
   "outputs": [],
   "source": [],
   "metadata": {
    "collapsed": false,
    "pycharm": {
     "name": "#%%\n"
    }
   }
  }
 ],
 "metadata": {
  "kernelspec": {
   "display_name": "Python 3",
   "language": "python",
   "name": "python3"
  },
  "language_info": {
   "codemirror_mode": {
    "name": "ipython",
    "version": 2
   },
   "file_extension": ".py",
   "mimetype": "text/x-python",
   "name": "python",
   "nbconvert_exporter": "python",
   "pygments_lexer": "ipython2",
   "version": "2.7.6"
  }
 },
 "nbformat": 4,
 "nbformat_minor": 0
}